{
 "cells": [
  {
   "cell_type": "markdown",
   "metadata": {},
   "source": [
    "# Module 7 : GUI based Breast Cancer Stage of symptoms"
   ]
  },
  {
   "cell_type": "code",
   "execution_count": 1,
   "metadata": {},
   "outputs": [],
   "source": [
    "from tkinter import *\n",
    "import numpy as np\n",
    "import pandas as pd"
   ]
  },
  {
   "cell_type": "code",
   "execution_count": 2,
   "metadata": {},
   "outputs": [],
   "source": [
    "data = pd.read_csv(\"data.csv\")"
   ]
  },
  {
   "cell_type": "code",
   "execution_count": 3,
   "metadata": {},
   "outputs": [],
   "source": [
    "import warnings\n",
    "warnings.filterwarnings('ignore')"
   ]
  },
  {
   "cell_type": "code",
   "execution_count": 4,
   "metadata": {},
   "outputs": [
    {
     "data": {
      "text/html": [
       "<div>\n",
       "<style scoped>\n",
       "    .dataframe tbody tr th:only-of-type {\n",
       "        vertical-align: middle;\n",
       "    }\n",
       "\n",
       "    .dataframe tbody tr th {\n",
       "        vertical-align: top;\n",
       "    }\n",
       "\n",
       "    .dataframe thead th {\n",
       "        text-align: right;\n",
       "    }\n",
       "</style>\n",
       "<table border=\"1\" class=\"dataframe\">\n",
       "  <thead>\n",
       "    <tr style=\"text-align: right;\">\n",
       "      <th></th>\n",
       "      <th>age</th>\n",
       "      <th>menopause</th>\n",
       "      <th>tumor-size</th>\n",
       "      <th>inv-nodes</th>\n",
       "      <th>node-caps</th>\n",
       "      <th>deg-malig</th>\n",
       "      <th>breast</th>\n",
       "      <th>breast-quad</th>\n",
       "      <th>irradiat</th>\n",
       "      <th>Class</th>\n",
       "    </tr>\n",
       "  </thead>\n",
       "  <tbody>\n",
       "    <tr>\n",
       "      <td>0</td>\n",
       "      <td>40-49</td>\n",
       "      <td>premeno</td>\n",
       "      <td>15-19</td>\n",
       "      <td>0-2</td>\n",
       "      <td>yes</td>\n",
       "      <td>3</td>\n",
       "      <td>right</td>\n",
       "      <td>left_up</td>\n",
       "      <td>no</td>\n",
       "      <td>recurrence-events</td>\n",
       "    </tr>\n",
       "    <tr>\n",
       "      <td>1</td>\n",
       "      <td>50-59</td>\n",
       "      <td>ge40</td>\n",
       "      <td>15-19</td>\n",
       "      <td>0-2</td>\n",
       "      <td>no</td>\n",
       "      <td>1</td>\n",
       "      <td>right</td>\n",
       "      <td>central</td>\n",
       "      <td>no</td>\n",
       "      <td>no-recurrence-events</td>\n",
       "    </tr>\n",
       "    <tr>\n",
       "      <td>2</td>\n",
       "      <td>50-59</td>\n",
       "      <td>ge40</td>\n",
       "      <td>35-39</td>\n",
       "      <td>0-2</td>\n",
       "      <td>no</td>\n",
       "      <td>2</td>\n",
       "      <td>left</td>\n",
       "      <td>left_low</td>\n",
       "      <td>no</td>\n",
       "      <td>recurrence-events</td>\n",
       "    </tr>\n",
       "    <tr>\n",
       "      <td>3</td>\n",
       "      <td>40-49</td>\n",
       "      <td>premeno</td>\n",
       "      <td>35-39</td>\n",
       "      <td>0-2</td>\n",
       "      <td>yes</td>\n",
       "      <td>3</td>\n",
       "      <td>right</td>\n",
       "      <td>left_low</td>\n",
       "      <td>yes</td>\n",
       "      <td>no-recurrence-events</td>\n",
       "    </tr>\n",
       "    <tr>\n",
       "      <td>4</td>\n",
       "      <td>40-49</td>\n",
       "      <td>premeno</td>\n",
       "      <td>30-34</td>\n",
       "      <td>03-May</td>\n",
       "      <td>yes</td>\n",
       "      <td>2</td>\n",
       "      <td>left</td>\n",
       "      <td>right_up</td>\n",
       "      <td>no</td>\n",
       "      <td>recurrence-events</td>\n",
       "    </tr>\n",
       "  </tbody>\n",
       "</table>\n",
       "</div>"
      ],
      "text/plain": [
       "     age menopause tumor-size inv-nodes node-caps  deg-malig breast  \\\n",
       "0  40-49   premeno      15-19       0-2       yes          3  right   \n",
       "1  50-59      ge40      15-19       0-2        no          1  right   \n",
       "2  50-59      ge40      35-39       0-2        no          2   left   \n",
       "3  40-49   premeno      35-39       0-2       yes          3  right   \n",
       "4  40-49   premeno      30-34    03-May       yes          2   left   \n",
       "\n",
       "  breast-quad irradiat                 Class  \n",
       "0     left_up       no     recurrence-events  \n",
       "1     central       no  no-recurrence-events  \n",
       "2    left_low       no     recurrence-events  \n",
       "3    left_low      yes  no-recurrence-events  \n",
       "4    right_up       no     recurrence-events  "
      ]
     },
     "execution_count": 4,
     "metadata": {},
     "output_type": "execute_result"
    }
   ],
   "source": [
    "data.head()"
   ]
  },
  {
   "cell_type": "markdown",
   "metadata": {},
   "source": [
    "# Grade :"
   ]
  },
  {
   "cell_type": "code",
   "execution_count": 5,
   "metadata": {},
   "outputs": [],
   "source": [
    "df=data.dropna()"
   ]
  },
  {
   "cell_type": "code",
   "execution_count": 6,
   "metadata": {},
   "outputs": [
    {
     "data": {
      "text/plain": [
       "Index(['age', 'menopause', 'tumor-size', 'inv-nodes', 'node-caps', 'deg-malig',\n",
       "       'breast', 'breast-quad', 'irradiat', 'Class'],\n",
       "      dtype='object')"
      ]
     },
     "execution_count": 6,
     "metadata": {},
     "output_type": "execute_result"
    }
   ],
   "source": [
    "df.columns"
   ]
  },
  {
   "cell_type": "code",
   "execution_count": 7,
   "metadata": {},
   "outputs": [
    {
     "data": {
      "text/plain": [
       "array(['40-49', '50-59', '60-69', '30-39', '70-79', '20-29'], dtype=object)"
      ]
     },
     "execution_count": 7,
     "metadata": {},
     "output_type": "execute_result"
    }
   ],
   "source": [
    "df['age'].unique()"
   ]
  },
  {
   "cell_type": "code",
   "execution_count": 8,
   "metadata": {},
   "outputs": [],
   "source": [
    "df['PtAgeBtw:40-49'] = df.age.map({'40-49':1, '50-59':0, '60-69':0, '30-39':0, '70-79':0, '20-29':0})\n",
    "df['PtAgeBtw:50-59'] = df.age.map({'40-49':0, '50-59':1, '60-69':0, '30-39':0, '70-79':0, '20-29':0})\n",
    "df['PtAgeBtw:60-69'] = df.age.map({'40-49':0, '50-59':0, '60-69':1, '30-39':0, '70-79':0, '20-29':0})\n",
    "df['PtAgeBtw:30-39'] = df.age.map({'40-49':0, '50-59':0, '60-69':0, '30-39':1, '70-79':0, '20-29':0})\n",
    "df['PtAgeBtw:70-79'] = df.age.map({'40-49':0, '50-59':0, '60-69':0, '30-39':0, '70-79':1, '20-29':0})\n",
    "df['PtAgeBtw:20-29'] = df.age.map({'40-49':0, '50-59':0, '60-69':0, '30-39':0, '70-79':0, '20-29':1})"
   ]
  },
  {
   "cell_type": "code",
   "execution_count": 9,
   "metadata": {},
   "outputs": [
    {
     "data": {
      "text/plain": [
       "array(['premeno', 'ge40', 'lt40'], dtype=object)"
      ]
     },
     "execution_count": 9,
     "metadata": {},
     "output_type": "execute_result"
    }
   ],
   "source": [
    "df['menopause'].unique()"
   ]
  },
  {
   "cell_type": "code",
   "execution_count": 10,
   "metadata": {},
   "outputs": [],
   "source": [
    "df['Premenopausal'] = df.menopause.map({'premeno':1, 'ge40':0, 'lt40':0})\n",
    "df['Postmenopausal'] = df.menopause.map({'premeno':0, 'ge40':1, 'lt40':1})"
   ]
  },
  {
   "cell_type": "code",
   "execution_count": 11,
   "metadata": {},
   "outputs": [
    {
     "data": {
      "text/plain": [
       "array(['15-19', '35-39', '30-34', '25-29', '40-44', 'Oct-14', '0-4',\n",
       "       '20-24', '45-49', '50-54', '05-Sep'], dtype=object)"
      ]
     },
     "execution_count": 11,
     "metadata": {},
     "output_type": "execute_result"
    }
   ],
   "source": [
    "df['tumor-size'].unique()"
   ]
  },
  {
   "cell_type": "code",
   "execution_count": 12,
   "metadata": {},
   "outputs": [],
   "source": [
    "df['TS15to19'] = df['tumor-size'].map({'15-19':1, '35-39':0, '30-34':0, '25-29':0, '40-44':0, 'Oct-14':0, '0-4':0,\n",
    "       '20-24':0, '45-49':0, '50-54':0, '05-Sep':0})\n",
    "\n",
    "df['TS35to39'] = df['tumor-size'].map({'15-19':0, '35-39':1, '30-34':0, '25-29':0, '40-44':0, 'Oct-14':0, '0-4':0,\n",
    "       '20-24':0, '45-49':0, '50-54':0, '05-Sep':0})\n",
    "\n",
    "df['TS30to34'] = df['tumor-size'].map({'15-19':0, '35-39':0, '30-34':1, '25-29':0, '40-44':0, 'Oct-14':0, '0-4':0,\n",
    "       '20-24':0, '45-49':0, '50-54':0, '05-Sep':0})\n",
    "\n",
    "df['TS25to29'] = df['tumor-size'].map({'15-19':0, '35-39':0, '30-34':0, '25-29':1, '40-44':0, 'Oct-14':0, '0-4':0,\n",
    "       '20-24':0, '45-49':0, '50-54':0, '05-Sep':0})\n",
    "\n",
    "df['TS40to44'] = df['tumor-size'].map({'15-19':0, '35-39':0, '30-34':0, '25-29':0, '40-44':1, 'Oct-14':0, '0-4':0,\n",
    "       '20-24':0, '45-49':0, '50-54':0, '05-Sep':0})\n",
    "\n",
    "df['TS10to14'] = df['tumor-size'].map({'15-19':0, '35-39':0, '30-34':0, '25-29':0, '40-44':0, 'Oct-14':1, '0-4':0,\n",
    "       '20-24':0, '45-49':0, '50-54':0, '05-Sep':0})\n",
    "\n",
    "df['TS00to04'] = df['tumor-size'].map({'15-19':0, '35-39':0, '30-34':0, '25-29':0, '40-44':0, 'Oct-14':0, '0-4':1,\n",
    "       '20-24':0, '45-49':0, '50-54':0, '05-Sep':0})\n",
    "\n",
    "df['TS20to24'] = df['tumor-size'].map({'15-19':0, '35-39':0, '30-34':0, '25-29':0, '40-44':0, 'Oct-14':0, '0-4':0,\n",
    "       '20-24':1, '45-49':0, '50-54':0, '05-Sep':0})\n",
    "\n",
    "df['TS45to49'] = df['tumor-size'].map({'15-19':0, '35-39':0, '30-34':0, '25-29':0, '40-44':0, 'Oct-14':0, '0-4':0,\n",
    "       '20-24':0, '45-49':1, '50-54':0, '05-Sep':0})\n",
    "\n",
    "df['TS50to54'] =df['tumor-size'].map({'15-19':0, '35-39':0, '30-34':0, '25-29':0, '40-44':0, 'Oct-14':0, '0-4':0,\n",
    "       '20-24':0, '45-49':0, '50-54':1, '05-Sep':0})\n",
    "\n",
    "df['TS05to09'] = df['tumor-size'].map({'15-19':0, '35-39':0, '30-34':0, '25-29':0, '40-44':0, 'Oct-14':0, '0-4':0,\n",
    "       '20-24':0, '45-49':0, '50-54':0, '05-Sep':1})\n"
   ]
  },
  {
   "cell_type": "code",
   "execution_count": 13,
   "metadata": {},
   "outputs": [
    {
     "data": {
      "text/plain": [
       "array(['0-2', '03-May', '15-17', '06-Aug', '09-Nov', '24-26', 'Dec-14'],\n",
       "      dtype=object)"
      ]
     },
     "execution_count": 13,
     "metadata": {},
     "output_type": "execute_result"
    }
   ],
   "source": [
    "df['inv-nodes'].unique()"
   ]
  },
  {
   "cell_type": "code",
   "execution_count": 14,
   "metadata": {},
   "outputs": [],
   "source": [
    "df['IN00-02'] = df['inv-nodes'].map({'0-2':1, '03-May':0, '15-17':0, '06-Aug':0, '09-Nov':0, '24-26':0, 'Dec-14':0})\n",
    "\n",
    "df['IN03-05'] = df['inv-nodes'].map({'0-2':0, '03-May':1, '15-17':0, '06-Aug':0, '09-Nov':0, '24-26':0, 'Dec-14':0})\n",
    "\n",
    "df['IN15-17'] = df['inv-nodes'].map({'0-2':0, '03-May':0, '15-17':1, '06-Aug':0, '09-Nov':0, '24-26':0, 'Dec-14':0})\n",
    "\n",
    "df['IN06-08'] = df['inv-nodes'].map({'0-2':0, '03-May':0, '15-17':0, '06-Aug':1, '09-Nov':0, '24-26':0, 'Dec-14':0})\n",
    "\n",
    "df['IN09-11'] = df['inv-nodes'].map({'0-2':0, '03-May':0, '15-17':0, '06-Aug':0, '09-Nov':1, '24-26':0, 'Dec-14':0})\n",
    "\n",
    "df['IN24-26'] = df['inv-nodes'].map({'0-2':0, '03-May':0, '15-17':0, '06-Aug':0, '09-Nov':0, '24-26':1, 'Dec-14':0})\n",
    "\n",
    "df['IN12-14'] = df['inv-nodes'].map({'0-2':0, '03-May':0, '15-17':0, '06-Aug':0, '09-Nov':0, '24-26':0, 'Dec-14':1})\n"
   ]
  },
  {
   "cell_type": "code",
   "execution_count": 15,
   "metadata": {},
   "outputs": [
    {
     "data": {
      "text/plain": [
       "array(['yes', 'no'], dtype=object)"
      ]
     },
     "execution_count": 15,
     "metadata": {},
     "output_type": "execute_result"
    }
   ],
   "source": [
    "df['node-caps'].unique()"
   ]
  },
  {
   "cell_type": "code",
   "execution_count": 16,
   "metadata": {},
   "outputs": [],
   "source": [
    "df['Nodecapsule-Yes'] = df['node-caps'].map({'yes':1, 'no':0})\n",
    "\n",
    "df['Nodecapsule-No'] = df['node-caps'].map({'yes':0, 'no':1})"
   ]
  },
  {
   "cell_type": "code",
   "execution_count": 17,
   "metadata": {},
   "outputs": [
    {
     "data": {
      "text/plain": [
       "array([3, 1, 2], dtype=int64)"
      ]
     },
     "execution_count": 17,
     "metadata": {},
     "output_type": "execute_result"
    }
   ],
   "source": [
    "df['deg-malig'].unique()"
   ]
  },
  {
   "cell_type": "code",
   "execution_count": 18,
   "metadata": {},
   "outputs": [],
   "source": [
    "df['Grade-1'] = df['deg-malig'].map({3:0, 1:1, 2:0})\n",
    "\n",
    "df['Grade-2'] = df['deg-malig'].map({3:0, 1:0, 2:1})\n",
    "\n",
    "df['Grade-3'] = df['deg-malig'].map({3:1, 1:0, 2:0})"
   ]
  },
  {
   "cell_type": "code",
   "execution_count": 19,
   "metadata": {},
   "outputs": [
    {
     "data": {
      "text/plain": [
       "array(['right', 'left'], dtype=object)"
      ]
     },
     "execution_count": 19,
     "metadata": {},
     "output_type": "execute_result"
    }
   ],
   "source": [
    "df['breast'].unique()"
   ]
  },
  {
   "cell_type": "code",
   "execution_count": 20,
   "metadata": {},
   "outputs": [],
   "source": [
    "df['Breast-@-Right'] = df['breast'].map({'right':1, 'left':0})\n",
    "\n",
    "df['Breast-@-Left'] = df['breast'].map({'right':0, 'left':1})"
   ]
  },
  {
   "cell_type": "code",
   "execution_count": 21,
   "metadata": {},
   "outputs": [
    {
     "data": {
      "text/plain": [
       "array(['left_up', 'central', 'left_low', 'right_up', 'right_low'],\n",
       "      dtype=object)"
      ]
     },
     "execution_count": 21,
     "metadata": {},
     "output_type": "execute_result"
    }
   ],
   "source": [
    "df['breast-quad'].unique()"
   ]
  },
  {
   "cell_type": "code",
   "execution_count": 22,
   "metadata": {},
   "outputs": [],
   "source": [
    "df['Breast-@-Left_Up'] = df['breast-quad'].map({'left_up':1, 'central':0, 'left_low':0, 'right_up':0, 'right_low':0})\n",
    "\n",
    "df['Breast-@-Central'] = df['breast-quad'].map({'left_up':0, 'central':1, 'left_low':0, 'right_up':0, 'right_low':0})\n",
    "\n",
    "df['Breast-@-Left_Down'] = df['breast-quad'].map({'left_up':0, 'central':0, 'left_low':1, 'right_up':0, 'right_low':0})\n",
    "\n",
    "df['Breast-@-Right_Up'] = df['breast-quad'].map({'left_up':0, 'central':0, 'left_low':0, 'right_up':1, 'right_low':0})\n",
    "\n",
    "df['Breast-@-Right_Down'] = df['breast-quad'].map({'left_up':0, 'central':0, 'left_low':0, 'right_up':0, 'right_low':1})"
   ]
  },
  {
   "cell_type": "code",
   "execution_count": 23,
   "metadata": {},
   "outputs": [
    {
     "data": {
      "text/plain": [
       "array(['no', 'yes'], dtype=object)"
      ]
     },
     "execution_count": 23,
     "metadata": {},
     "output_type": "execute_result"
    }
   ],
   "source": [
    "df['irradiat'].unique()"
   ]
  },
  {
   "cell_type": "code",
   "execution_count": 24,
   "metadata": {},
   "outputs": [],
   "source": [
    "df['Radiation_Surgery:Yes'] = df['irradiat'].map({'no':0, 'yes':1})\n",
    "\n",
    "df['Radiation_Surgery:No'] = df['irradiat'].map({'no':1, 'yes':0})"
   ]
  },
  {
   "cell_type": "code",
   "execution_count": 25,
   "metadata": {},
   "outputs": [
    {
     "data": {
      "text/plain": [
       "array(['recurrence-events', 'no-recurrence-events'], dtype=object)"
      ]
     },
     "execution_count": 25,
     "metadata": {},
     "output_type": "execute_result"
    }
   ],
   "source": [
    "df['Class'].unique()"
   ]
  },
  {
   "cell_type": "code",
   "execution_count": 26,
   "metadata": {},
   "outputs": [],
   "source": [
    "df['After_Treatment:Reappearing'] = df['Class'].map({'recurrence-events':1, 'no-recurrence-events':0})\n",
    "\n",
    "df['After_Treatment:Healthy'] = df['Class'].map({'recurrence-events':0, 'no-recurrence-events':1})"
   ]
  },
  {
   "cell_type": "code",
   "execution_count": 27,
   "metadata": {},
   "outputs": [
    {
     "data": {
      "text/html": [
       "<div>\n",
       "<style scoped>\n",
       "    .dataframe tbody tr th:only-of-type {\n",
       "        vertical-align: middle;\n",
       "    }\n",
       "\n",
       "    .dataframe tbody tr th {\n",
       "        vertical-align: top;\n",
       "    }\n",
       "\n",
       "    .dataframe thead th {\n",
       "        text-align: right;\n",
       "    }\n",
       "</style>\n",
       "<table border=\"1\" class=\"dataframe\">\n",
       "  <thead>\n",
       "    <tr style=\"text-align: right;\">\n",
       "      <th></th>\n",
       "      <th>age</th>\n",
       "      <th>menopause</th>\n",
       "      <th>tumor-size</th>\n",
       "      <th>inv-nodes</th>\n",
       "      <th>node-caps</th>\n",
       "      <th>deg-malig</th>\n",
       "      <th>breast</th>\n",
       "      <th>breast-quad</th>\n",
       "      <th>irradiat</th>\n",
       "      <th>Class</th>\n",
       "      <th>...</th>\n",
       "      <th>Breast-@-Left</th>\n",
       "      <th>Breast-@-Left_Up</th>\n",
       "      <th>Breast-@-Central</th>\n",
       "      <th>Breast-@-Left_Down</th>\n",
       "      <th>Breast-@-Right_Up</th>\n",
       "      <th>Breast-@-Right_Down</th>\n",
       "      <th>Radiation_Surgery:Yes</th>\n",
       "      <th>Radiation_Surgery:No</th>\n",
       "      <th>After_Treatment:Reappearing</th>\n",
       "      <th>After_Treatment:Healthy</th>\n",
       "    </tr>\n",
       "  </thead>\n",
       "  <tbody>\n",
       "    <tr>\n",
       "      <td>0</td>\n",
       "      <td>40-49</td>\n",
       "      <td>premeno</td>\n",
       "      <td>15-19</td>\n",
       "      <td>0-2</td>\n",
       "      <td>yes</td>\n",
       "      <td>3</td>\n",
       "      <td>right</td>\n",
       "      <td>left_up</td>\n",
       "      <td>no</td>\n",
       "      <td>recurrence-events</td>\n",
       "      <td>...</td>\n",
       "      <td>0</td>\n",
       "      <td>1</td>\n",
       "      <td>0</td>\n",
       "      <td>0</td>\n",
       "      <td>0</td>\n",
       "      <td>0</td>\n",
       "      <td>0</td>\n",
       "      <td>1</td>\n",
       "      <td>1</td>\n",
       "      <td>0</td>\n",
       "    </tr>\n",
       "    <tr>\n",
       "      <td>1</td>\n",
       "      <td>50-59</td>\n",
       "      <td>ge40</td>\n",
       "      <td>15-19</td>\n",
       "      <td>0-2</td>\n",
       "      <td>no</td>\n",
       "      <td>1</td>\n",
       "      <td>right</td>\n",
       "      <td>central</td>\n",
       "      <td>no</td>\n",
       "      <td>no-recurrence-events</td>\n",
       "      <td>...</td>\n",
       "      <td>0</td>\n",
       "      <td>0</td>\n",
       "      <td>1</td>\n",
       "      <td>0</td>\n",
       "      <td>0</td>\n",
       "      <td>0</td>\n",
       "      <td>0</td>\n",
       "      <td>1</td>\n",
       "      <td>0</td>\n",
       "      <td>1</td>\n",
       "    </tr>\n",
       "    <tr>\n",
       "      <td>2</td>\n",
       "      <td>50-59</td>\n",
       "      <td>ge40</td>\n",
       "      <td>35-39</td>\n",
       "      <td>0-2</td>\n",
       "      <td>no</td>\n",
       "      <td>2</td>\n",
       "      <td>left</td>\n",
       "      <td>left_low</td>\n",
       "      <td>no</td>\n",
       "      <td>recurrence-events</td>\n",
       "      <td>...</td>\n",
       "      <td>1</td>\n",
       "      <td>0</td>\n",
       "      <td>0</td>\n",
       "      <td>1</td>\n",
       "      <td>0</td>\n",
       "      <td>0</td>\n",
       "      <td>0</td>\n",
       "      <td>1</td>\n",
       "      <td>1</td>\n",
       "      <td>0</td>\n",
       "    </tr>\n",
       "    <tr>\n",
       "      <td>3</td>\n",
       "      <td>40-49</td>\n",
       "      <td>premeno</td>\n",
       "      <td>35-39</td>\n",
       "      <td>0-2</td>\n",
       "      <td>yes</td>\n",
       "      <td>3</td>\n",
       "      <td>right</td>\n",
       "      <td>left_low</td>\n",
       "      <td>yes</td>\n",
       "      <td>no-recurrence-events</td>\n",
       "      <td>...</td>\n",
       "      <td>0</td>\n",
       "      <td>0</td>\n",
       "      <td>0</td>\n",
       "      <td>1</td>\n",
       "      <td>0</td>\n",
       "      <td>0</td>\n",
       "      <td>1</td>\n",
       "      <td>0</td>\n",
       "      <td>0</td>\n",
       "      <td>1</td>\n",
       "    </tr>\n",
       "    <tr>\n",
       "      <td>4</td>\n",
       "      <td>40-49</td>\n",
       "      <td>premeno</td>\n",
       "      <td>30-34</td>\n",
       "      <td>03-May</td>\n",
       "      <td>yes</td>\n",
       "      <td>2</td>\n",
       "      <td>left</td>\n",
       "      <td>right_up</td>\n",
       "      <td>no</td>\n",
       "      <td>recurrence-events</td>\n",
       "      <td>...</td>\n",
       "      <td>1</td>\n",
       "      <td>0</td>\n",
       "      <td>0</td>\n",
       "      <td>0</td>\n",
       "      <td>1</td>\n",
       "      <td>0</td>\n",
       "      <td>0</td>\n",
       "      <td>1</td>\n",
       "      <td>1</td>\n",
       "      <td>0</td>\n",
       "    </tr>\n",
       "  </tbody>\n",
       "</table>\n",
       "<p>5 rows × 52 columns</p>\n",
       "</div>"
      ],
      "text/plain": [
       "     age menopause tumor-size inv-nodes node-caps  deg-malig breast  \\\n",
       "0  40-49   premeno      15-19       0-2       yes          3  right   \n",
       "1  50-59      ge40      15-19       0-2        no          1  right   \n",
       "2  50-59      ge40      35-39       0-2        no          2   left   \n",
       "3  40-49   premeno      35-39       0-2       yes          3  right   \n",
       "4  40-49   premeno      30-34    03-May       yes          2   left   \n",
       "\n",
       "  breast-quad irradiat                 Class  ...  Breast-@-Left  \\\n",
       "0     left_up       no     recurrence-events  ...              0   \n",
       "1     central       no  no-recurrence-events  ...              0   \n",
       "2    left_low       no     recurrence-events  ...              1   \n",
       "3    left_low      yes  no-recurrence-events  ...              0   \n",
       "4    right_up       no     recurrence-events  ...              1   \n",
       "\n",
       "   Breast-@-Left_Up  Breast-@-Central  Breast-@-Left_Down  Breast-@-Right_Up  \\\n",
       "0                 1                 0                   0                  0   \n",
       "1                 0                 1                   0                  0   \n",
       "2                 0                 0                   1                  0   \n",
       "3                 0                 0                   1                  0   \n",
       "4                 0                 0                   0                  1   \n",
       "\n",
       "   Breast-@-Right_Down  Radiation_Surgery:Yes  Radiation_Surgery:No  \\\n",
       "0                    0                      0                     1   \n",
       "1                    0                      0                     1   \n",
       "2                    0                      0                     1   \n",
       "3                    0                      1                     0   \n",
       "4                    0                      0                     1   \n",
       "\n",
       "   After_Treatment:Reappearing  After_Treatment:Healthy  \n",
       "0                            1                        0  \n",
       "1                            0                        1  \n",
       "2                            1                        0  \n",
       "3                            0                        1  \n",
       "4                            1                        0  \n",
       "\n",
       "[5 rows x 52 columns]"
      ]
     },
     "execution_count": 27,
     "metadata": {},
     "output_type": "execute_result"
    }
   ],
   "source": [
    "df.head()"
   ]
  },
  {
   "cell_type": "code",
   "execution_count": 28,
   "metadata": {},
   "outputs": [
    {
     "data": {
      "text/plain": [
       "Index(['age', 'menopause', 'tumor-size', 'inv-nodes', 'node-caps', 'deg-malig',\n",
       "       'breast', 'breast-quad', 'irradiat', 'Class', 'PtAgeBtw:40-49',\n",
       "       'PtAgeBtw:50-59', 'PtAgeBtw:60-69', 'PtAgeBtw:30-39', 'PtAgeBtw:70-79',\n",
       "       'PtAgeBtw:20-29', 'Premenopausal', 'Postmenopausal', 'TS15to19',\n",
       "       'TS35to39', 'TS30to34', 'TS25to29', 'TS40to44', 'TS10to14', 'TS00to04',\n",
       "       'TS20to24', 'TS45to49', 'TS50to54', 'TS05to09', 'IN00-02', 'IN03-05',\n",
       "       'IN15-17', 'IN06-08', 'IN09-11', 'IN24-26', 'IN12-14',\n",
       "       'Nodecapsule-Yes', 'Nodecapsule-No', 'Grade-1', 'Grade-2', 'Grade-3',\n",
       "       'Breast-@-Right', 'Breast-@-Left', 'Breast-@-Left_Up',\n",
       "       'Breast-@-Central', 'Breast-@-Left_Down', 'Breast-@-Right_Up',\n",
       "       'Breast-@-Right_Down', 'Radiation_Surgery:Yes', 'Radiation_Surgery:No',\n",
       "       'After_Treatment:Reappearing', 'After_Treatment:Healthy'],\n",
       "      dtype='object')"
      ]
     },
     "execution_count": 28,
     "metadata": {},
     "output_type": "execute_result"
    }
   ],
   "source": [
    "df.columns"
   ]
  },
  {
   "cell_type": "code",
   "execution_count": 29,
   "metadata": {},
   "outputs": [
    {
     "data": {
      "text/html": [
       "<div>\n",
       "<style scoped>\n",
       "    .dataframe tbody tr th:only-of-type {\n",
       "        vertical-align: middle;\n",
       "    }\n",
       "\n",
       "    .dataframe tbody tr th {\n",
       "        vertical-align: top;\n",
       "    }\n",
       "\n",
       "    .dataframe thead th {\n",
       "        text-align: right;\n",
       "    }\n",
       "</style>\n",
       "<table border=\"1\" class=\"dataframe\">\n",
       "  <thead>\n",
       "    <tr style=\"text-align: right;\">\n",
       "      <th></th>\n",
       "      <th>age</th>\n",
       "      <th>menopause</th>\n",
       "      <th>tumor-size</th>\n",
       "      <th>inv-nodes</th>\n",
       "      <th>node-caps</th>\n",
       "      <th>deg-malig</th>\n",
       "      <th>breast</th>\n",
       "      <th>breast-quad</th>\n",
       "      <th>irradiat</th>\n",
       "      <th>Class</th>\n",
       "      <th>...</th>\n",
       "      <th>Breast-@-Left</th>\n",
       "      <th>Breast-@-Left_Up</th>\n",
       "      <th>Breast-@-Central</th>\n",
       "      <th>Breast-@-Left_Down</th>\n",
       "      <th>Breast-@-Right_Up</th>\n",
       "      <th>Breast-@-Right_Down</th>\n",
       "      <th>Radiation_Surgery:Yes</th>\n",
       "      <th>Radiation_Surgery:No</th>\n",
       "      <th>After_Treatment:Reappearing</th>\n",
       "      <th>After_Treatment:Healthy</th>\n",
       "    </tr>\n",
       "  </thead>\n",
       "  <tbody>\n",
       "    <tr>\n",
       "      <td>0</td>\n",
       "      <td>40-49</td>\n",
       "      <td>premeno</td>\n",
       "      <td>15-19</td>\n",
       "      <td>0-2</td>\n",
       "      <td>yes</td>\n",
       "      <td>3</td>\n",
       "      <td>right</td>\n",
       "      <td>left_up</td>\n",
       "      <td>no</td>\n",
       "      <td>recurrence-events</td>\n",
       "      <td>...</td>\n",
       "      <td>0</td>\n",
       "      <td>1</td>\n",
       "      <td>0</td>\n",
       "      <td>0</td>\n",
       "      <td>0</td>\n",
       "      <td>0</td>\n",
       "      <td>0</td>\n",
       "      <td>1</td>\n",
       "      <td>1</td>\n",
       "      <td>0</td>\n",
       "    </tr>\n",
       "    <tr>\n",
       "      <td>1</td>\n",
       "      <td>50-59</td>\n",
       "      <td>ge40</td>\n",
       "      <td>15-19</td>\n",
       "      <td>0-2</td>\n",
       "      <td>no</td>\n",
       "      <td>1</td>\n",
       "      <td>right</td>\n",
       "      <td>central</td>\n",
       "      <td>no</td>\n",
       "      <td>no-recurrence-events</td>\n",
       "      <td>...</td>\n",
       "      <td>0</td>\n",
       "      <td>0</td>\n",
       "      <td>1</td>\n",
       "      <td>0</td>\n",
       "      <td>0</td>\n",
       "      <td>0</td>\n",
       "      <td>0</td>\n",
       "      <td>1</td>\n",
       "      <td>0</td>\n",
       "      <td>1</td>\n",
       "    </tr>\n",
       "    <tr>\n",
       "      <td>2</td>\n",
       "      <td>50-59</td>\n",
       "      <td>ge40</td>\n",
       "      <td>35-39</td>\n",
       "      <td>0-2</td>\n",
       "      <td>no</td>\n",
       "      <td>2</td>\n",
       "      <td>left</td>\n",
       "      <td>left_low</td>\n",
       "      <td>no</td>\n",
       "      <td>recurrence-events</td>\n",
       "      <td>...</td>\n",
       "      <td>1</td>\n",
       "      <td>0</td>\n",
       "      <td>0</td>\n",
       "      <td>1</td>\n",
       "      <td>0</td>\n",
       "      <td>0</td>\n",
       "      <td>0</td>\n",
       "      <td>1</td>\n",
       "      <td>1</td>\n",
       "      <td>0</td>\n",
       "    </tr>\n",
       "    <tr>\n",
       "      <td>3</td>\n",
       "      <td>40-49</td>\n",
       "      <td>premeno</td>\n",
       "      <td>35-39</td>\n",
       "      <td>0-2</td>\n",
       "      <td>yes</td>\n",
       "      <td>3</td>\n",
       "      <td>right</td>\n",
       "      <td>left_low</td>\n",
       "      <td>yes</td>\n",
       "      <td>no-recurrence-events</td>\n",
       "      <td>...</td>\n",
       "      <td>0</td>\n",
       "      <td>0</td>\n",
       "      <td>0</td>\n",
       "      <td>1</td>\n",
       "      <td>0</td>\n",
       "      <td>0</td>\n",
       "      <td>1</td>\n",
       "      <td>0</td>\n",
       "      <td>0</td>\n",
       "      <td>1</td>\n",
       "    </tr>\n",
       "    <tr>\n",
       "      <td>4</td>\n",
       "      <td>40-49</td>\n",
       "      <td>premeno</td>\n",
       "      <td>30-34</td>\n",
       "      <td>03-May</td>\n",
       "      <td>yes</td>\n",
       "      <td>2</td>\n",
       "      <td>left</td>\n",
       "      <td>right_up</td>\n",
       "      <td>no</td>\n",
       "      <td>recurrence-events</td>\n",
       "      <td>...</td>\n",
       "      <td>1</td>\n",
       "      <td>0</td>\n",
       "      <td>0</td>\n",
       "      <td>0</td>\n",
       "      <td>1</td>\n",
       "      <td>0</td>\n",
       "      <td>0</td>\n",
       "      <td>1</td>\n",
       "      <td>1</td>\n",
       "      <td>0</td>\n",
       "    </tr>\n",
       "  </tbody>\n",
       "</table>\n",
       "<p>5 rows × 52 columns</p>\n",
       "</div>"
      ],
      "text/plain": [
       "     age menopause tumor-size inv-nodes node-caps  deg-malig breast  \\\n",
       "0  40-49   premeno      15-19       0-2       yes          3  right   \n",
       "1  50-59      ge40      15-19       0-2        no          1  right   \n",
       "2  50-59      ge40      35-39       0-2        no          2   left   \n",
       "3  40-49   premeno      35-39       0-2       yes          3  right   \n",
       "4  40-49   premeno      30-34    03-May       yes          2   left   \n",
       "\n",
       "  breast-quad irradiat                 Class  ...  Breast-@-Left  \\\n",
       "0     left_up       no     recurrence-events  ...              0   \n",
       "1     central       no  no-recurrence-events  ...              0   \n",
       "2    left_low       no     recurrence-events  ...              1   \n",
       "3    left_low      yes  no-recurrence-events  ...              0   \n",
       "4    right_up       no     recurrence-events  ...              1   \n",
       "\n",
       "   Breast-@-Left_Up  Breast-@-Central  Breast-@-Left_Down  Breast-@-Right_Up  \\\n",
       "0                 1                 0                   0                  0   \n",
       "1                 0                 1                   0                  0   \n",
       "2                 0                 0                   1                  0   \n",
       "3                 0                 0                   1                  0   \n",
       "4                 0                 0                   0                  1   \n",
       "\n",
       "   Breast-@-Right_Down  Radiation_Surgery:Yes  Radiation_Surgery:No  \\\n",
       "0                    0                      0                     1   \n",
       "1                    0                      0                     1   \n",
       "2                    0                      0                     1   \n",
       "3                    0                      1                     0   \n",
       "4                    0                      0                     1   \n",
       "\n",
       "   After_Treatment:Reappearing  After_Treatment:Healthy  \n",
       "0                            1                        0  \n",
       "1                            0                        1  \n",
       "2                            1                        0  \n",
       "3                            0                        1  \n",
       "4                            1                        0  \n",
       "\n",
       "[5 rows x 52 columns]"
      ]
     },
     "execution_count": 29,
     "metadata": {},
     "output_type": "execute_result"
    }
   ],
   "source": [
    "df.head()"
   ]
  },
  {
   "cell_type": "code",
   "execution_count": 30,
   "metadata": {},
   "outputs": [
    {
     "data": {
      "text/plain": [
       "Index(['age', 'menopause', 'tumor-size', 'inv-nodes', 'node-caps', 'deg-malig',\n",
       "       'breast', 'breast-quad', 'irradiat', 'Class', 'PtAgeBtw:40-49',\n",
       "       'PtAgeBtw:50-59', 'PtAgeBtw:60-69', 'PtAgeBtw:30-39', 'PtAgeBtw:70-79',\n",
       "       'PtAgeBtw:20-29', 'Premenopausal', 'Postmenopausal', 'TS15to19',\n",
       "       'TS35to39', 'TS30to34', 'TS25to29', 'TS40to44', 'TS10to14', 'TS00to04',\n",
       "       'TS20to24', 'TS45to49', 'TS50to54', 'TS05to09', 'IN00-02', 'IN03-05',\n",
       "       'IN15-17', 'IN06-08', 'IN09-11', 'IN24-26', 'IN12-14',\n",
       "       'Nodecapsule-Yes', 'Nodecapsule-No', 'Grade-1', 'Grade-2', 'Grade-3',\n",
       "       'Breast-@-Right', 'Breast-@-Left', 'Breast-@-Left_Up',\n",
       "       'Breast-@-Central', 'Breast-@-Left_Down', 'Breast-@-Right_Up',\n",
       "       'Breast-@-Right_Down', 'Radiation_Surgery:Yes', 'Radiation_Surgery:No',\n",
       "       'After_Treatment:Reappearing', 'After_Treatment:Healthy'],\n",
       "      dtype='object')"
      ]
     },
     "execution_count": 30,
     "metadata": {},
     "output_type": "execute_result"
    }
   ],
   "source": [
    "df.columns"
   ]
  },
  {
   "cell_type": "code",
   "execution_count": 31,
   "metadata": {},
   "outputs": [],
   "source": [
    "del df['age']\n",
    "del df['menopause']\n",
    "del df['tumor-size']\n",
    "del df['inv-nodes']\n",
    "del df['node-caps']\n",
    "del df['breast']\n",
    "del df['breast-quad']\n",
    "del df['irradiat']\n",
    "del df['Class']\n"
   ]
  },
  {
   "cell_type": "code",
   "execution_count": 32,
   "metadata": {},
   "outputs": [],
   "source": [
    "df.replace({'deg-malig':{3:'Grade-3',2:'Grade-2',1:'Grade-1'}},inplace=True)"
   ]
  },
  {
   "cell_type": "code",
   "execution_count": 33,
   "metadata": {
    "scrolled": true
   },
   "outputs": [
    {
     "data": {
      "text/html": [
       "<div>\n",
       "<style scoped>\n",
       "    .dataframe tbody tr th:only-of-type {\n",
       "        vertical-align: middle;\n",
       "    }\n",
       "\n",
       "    .dataframe tbody tr th {\n",
       "        vertical-align: top;\n",
       "    }\n",
       "\n",
       "    .dataframe thead th {\n",
       "        text-align: right;\n",
       "    }\n",
       "</style>\n",
       "<table border=\"1\" class=\"dataframe\">\n",
       "  <thead>\n",
       "    <tr style=\"text-align: right;\">\n",
       "      <th></th>\n",
       "      <th>deg-malig</th>\n",
       "      <th>PtAgeBtw:40-49</th>\n",
       "      <th>PtAgeBtw:50-59</th>\n",
       "      <th>PtAgeBtw:60-69</th>\n",
       "      <th>PtAgeBtw:30-39</th>\n",
       "      <th>PtAgeBtw:70-79</th>\n",
       "      <th>PtAgeBtw:20-29</th>\n",
       "      <th>Premenopausal</th>\n",
       "      <th>Postmenopausal</th>\n",
       "      <th>TS15to19</th>\n",
       "      <th>...</th>\n",
       "      <th>Breast-@-Left</th>\n",
       "      <th>Breast-@-Left_Up</th>\n",
       "      <th>Breast-@-Central</th>\n",
       "      <th>Breast-@-Left_Down</th>\n",
       "      <th>Breast-@-Right_Up</th>\n",
       "      <th>Breast-@-Right_Down</th>\n",
       "      <th>Radiation_Surgery:Yes</th>\n",
       "      <th>Radiation_Surgery:No</th>\n",
       "      <th>After_Treatment:Reappearing</th>\n",
       "      <th>After_Treatment:Healthy</th>\n",
       "    </tr>\n",
       "  </thead>\n",
       "  <tbody>\n",
       "    <tr>\n",
       "      <td>0</td>\n",
       "      <td>Grade-3</td>\n",
       "      <td>1</td>\n",
       "      <td>0</td>\n",
       "      <td>0</td>\n",
       "      <td>0</td>\n",
       "      <td>0</td>\n",
       "      <td>0</td>\n",
       "      <td>1</td>\n",
       "      <td>0</td>\n",
       "      <td>1</td>\n",
       "      <td>...</td>\n",
       "      <td>0</td>\n",
       "      <td>1</td>\n",
       "      <td>0</td>\n",
       "      <td>0</td>\n",
       "      <td>0</td>\n",
       "      <td>0</td>\n",
       "      <td>0</td>\n",
       "      <td>1</td>\n",
       "      <td>1</td>\n",
       "      <td>0</td>\n",
       "    </tr>\n",
       "    <tr>\n",
       "      <td>1</td>\n",
       "      <td>Grade-1</td>\n",
       "      <td>0</td>\n",
       "      <td>1</td>\n",
       "      <td>0</td>\n",
       "      <td>0</td>\n",
       "      <td>0</td>\n",
       "      <td>0</td>\n",
       "      <td>0</td>\n",
       "      <td>1</td>\n",
       "      <td>1</td>\n",
       "      <td>...</td>\n",
       "      <td>0</td>\n",
       "      <td>0</td>\n",
       "      <td>1</td>\n",
       "      <td>0</td>\n",
       "      <td>0</td>\n",
       "      <td>0</td>\n",
       "      <td>0</td>\n",
       "      <td>1</td>\n",
       "      <td>0</td>\n",
       "      <td>1</td>\n",
       "    </tr>\n",
       "    <tr>\n",
       "      <td>2</td>\n",
       "      <td>Grade-2</td>\n",
       "      <td>0</td>\n",
       "      <td>1</td>\n",
       "      <td>0</td>\n",
       "      <td>0</td>\n",
       "      <td>0</td>\n",
       "      <td>0</td>\n",
       "      <td>0</td>\n",
       "      <td>1</td>\n",
       "      <td>0</td>\n",
       "      <td>...</td>\n",
       "      <td>1</td>\n",
       "      <td>0</td>\n",
       "      <td>0</td>\n",
       "      <td>1</td>\n",
       "      <td>0</td>\n",
       "      <td>0</td>\n",
       "      <td>0</td>\n",
       "      <td>1</td>\n",
       "      <td>1</td>\n",
       "      <td>0</td>\n",
       "    </tr>\n",
       "    <tr>\n",
       "      <td>3</td>\n",
       "      <td>Grade-3</td>\n",
       "      <td>1</td>\n",
       "      <td>0</td>\n",
       "      <td>0</td>\n",
       "      <td>0</td>\n",
       "      <td>0</td>\n",
       "      <td>0</td>\n",
       "      <td>1</td>\n",
       "      <td>0</td>\n",
       "      <td>0</td>\n",
       "      <td>...</td>\n",
       "      <td>0</td>\n",
       "      <td>0</td>\n",
       "      <td>0</td>\n",
       "      <td>1</td>\n",
       "      <td>0</td>\n",
       "      <td>0</td>\n",
       "      <td>1</td>\n",
       "      <td>0</td>\n",
       "      <td>0</td>\n",
       "      <td>1</td>\n",
       "    </tr>\n",
       "    <tr>\n",
       "      <td>4</td>\n",
       "      <td>Grade-2</td>\n",
       "      <td>1</td>\n",
       "      <td>0</td>\n",
       "      <td>0</td>\n",
       "      <td>0</td>\n",
       "      <td>0</td>\n",
       "      <td>0</td>\n",
       "      <td>1</td>\n",
       "      <td>0</td>\n",
       "      <td>0</td>\n",
       "      <td>...</td>\n",
       "      <td>1</td>\n",
       "      <td>0</td>\n",
       "      <td>0</td>\n",
       "      <td>0</td>\n",
       "      <td>1</td>\n",
       "      <td>0</td>\n",
       "      <td>0</td>\n",
       "      <td>1</td>\n",
       "      <td>1</td>\n",
       "      <td>0</td>\n",
       "    </tr>\n",
       "  </tbody>\n",
       "</table>\n",
       "<p>5 rows × 43 columns</p>\n",
       "</div>"
      ],
      "text/plain": [
       "  deg-malig  PtAgeBtw:40-49  PtAgeBtw:50-59  PtAgeBtw:60-69  PtAgeBtw:30-39  \\\n",
       "0   Grade-3               1               0               0               0   \n",
       "1   Grade-1               0               1               0               0   \n",
       "2   Grade-2               0               1               0               0   \n",
       "3   Grade-3               1               0               0               0   \n",
       "4   Grade-2               1               0               0               0   \n",
       "\n",
       "   PtAgeBtw:70-79  PtAgeBtw:20-29  Premenopausal  Postmenopausal  TS15to19  \\\n",
       "0               0               0              1               0         1   \n",
       "1               0               0              0               1         1   \n",
       "2               0               0              0               1         0   \n",
       "3               0               0              1               0         0   \n",
       "4               0               0              1               0         0   \n",
       "\n",
       "   ...  Breast-@-Left  Breast-@-Left_Up  Breast-@-Central  Breast-@-Left_Down  \\\n",
       "0  ...              0                 1                 0                   0   \n",
       "1  ...              0                 0                 1                   0   \n",
       "2  ...              1                 0                 0                   1   \n",
       "3  ...              0                 0                 0                   1   \n",
       "4  ...              1                 0                 0                   0   \n",
       "\n",
       "   Breast-@-Right_Up  Breast-@-Right_Down  Radiation_Surgery:Yes  \\\n",
       "0                  0                    0                      0   \n",
       "1                  0                    0                      0   \n",
       "2                  0                    0                      0   \n",
       "3                  0                    0                      1   \n",
       "4                  1                    0                      0   \n",
       "\n",
       "   Radiation_Surgery:No  After_Treatment:Reappearing  After_Treatment:Healthy  \n",
       "0                     1                            1                        0  \n",
       "1                     1                            0                        1  \n",
       "2                     1                            1                        0  \n",
       "3                     0                            0                        1  \n",
       "4                     1                            1                        0  \n",
       "\n",
       "[5 rows x 43 columns]"
      ]
     },
     "execution_count": 33,
     "metadata": {},
     "output_type": "execute_result"
    }
   ],
   "source": [
    "df.head()"
   ]
  },
  {
   "cell_type": "markdown",
   "metadata": {},
   "source": [
    "# TNM :"
   ]
  },
  {
   "cell_type": "code",
   "execution_count": 34,
   "metadata": {},
   "outputs": [],
   "source": [
    "dft=data.dropna()"
   ]
  },
  {
   "cell_type": "code",
   "execution_count": 35,
   "metadata": {},
   "outputs": [],
   "source": [
    "dft['PtAgeBtw:40-49'] = dft.age.map({'40-49':1, '50-59':0, '60-69':0, '30-39':0, '70-79':0, '20-29':0})\n",
    "dft['PtAgeBtw:50-59'] = dft.age.map({'40-49':0, '50-59':1, '60-69':0, '30-39':0, '70-79':0, '20-29':0})\n",
    "dft['PtAgeBtw:60-69'] = dft.age.map({'40-49':0, '50-59':0, '60-69':1, '30-39':0, '70-79':0, '20-29':0})\n",
    "dft['PtAgeBtw:30-39'] = dft.age.map({'40-49':0, '50-59':0, '60-69':0, '30-39':1, '70-79':0, '20-29':0})\n",
    "dft['PtAgeBtw:70-79'] = dft.age.map({'40-49':0, '50-59':0, '60-69':0, '30-39':0, '70-79':1, '20-29':0})\n",
    "dft['PtAgeBtw:20-29'] = dft.age.map({'40-49':0, '50-59':0, '60-69':0, '30-39':0, '70-79':0, '20-29':1})"
   ]
  },
  {
   "cell_type": "code",
   "execution_count": 36,
   "metadata": {},
   "outputs": [],
   "source": [
    "dft['Premenopausal'] = dft.menopause.map({'premeno':1, 'ge40':0, 'lt40':0})\n",
    "dft['Postmenopausal'] = dft.menopause.map({'premeno':0, 'ge40':1, 'lt40':1})"
   ]
  },
  {
   "cell_type": "code",
   "execution_count": 37,
   "metadata": {},
   "outputs": [],
   "source": [
    "dft['TS15to19'] = dft['tumor-size'].map({'15-19':1, '35-39':0, '30-34':0, '25-29':0, '40-44':0, 'Oct-14':0, '0-4':0,\n",
    "       '20-24':0, '45-49':0, '50-54':0, '05-Sep':0})\n",
    "\n",
    "dft['TS35to39'] = dft['tumor-size'].map({'15-19':0, '35-39':1, '30-34':0, '25-29':0, '40-44':0, 'Oct-14':0, '0-4':0,\n",
    "       '20-24':0, '45-49':0, '50-54':0, '05-Sep':0})\n",
    "\n",
    "dft['TS30to34'] = dft['tumor-size'].map({'15-19':0, '35-39':0, '30-34':1, '25-29':0, '40-44':0, 'Oct-14':0, '0-4':0,\n",
    "       '20-24':0, '45-49':0, '50-54':0, '05-Sep':0})\n",
    "\n",
    "dft['TS25to29'] = dft['tumor-size'].map({'15-19':0, '35-39':0, '30-34':0, '25-29':1, '40-44':0, 'Oct-14':0, '0-4':0,\n",
    "       '20-24':0, '45-49':0, '50-54':0, '05-Sep':0})\n",
    "\n",
    "dft['TS40to44'] = dft['tumor-size'].map({'15-19':0, '35-39':0, '30-34':0, '25-29':0, '40-44':1, 'Oct-14':0, '0-4':0,\n",
    "       '20-24':0, '45-49':0, '50-54':0, '05-Sep':0})\n",
    "\n",
    "dft['TS10to14'] = dft['tumor-size'].map({'15-19':0, '35-39':0, '30-34':0, '25-29':0, '40-44':0, 'Oct-14':1, '0-4':0,\n",
    "       '20-24':0, '45-49':0, '50-54':0, '05-Sep':0})\n",
    "\n",
    "dft['TS00to04'] = dft['tumor-size'].map({'15-19':0, '35-39':0, '30-34':0, '25-29':0, '40-44':0, 'Oct-14':0, '0-4':1,\n",
    "       '20-24':0, '45-49':0, '50-54':0, '05-Sep':0})\n",
    "\n",
    "dft['TS20to24'] = dft['tumor-size'].map({'15-19':0, '35-39':0, '30-34':0, '25-29':0, '40-44':0, 'Oct-14':0, '0-4':0,\n",
    "       '20-24':1, '45-49':0, '50-54':0, '05-Sep':0})\n",
    "\n",
    "dft['TS45to49'] = dft['tumor-size'].map({'15-19':0, '35-39':0, '30-34':0, '25-29':0, '40-44':0, 'Oct-14':0, '0-4':0,\n",
    "       '20-24':0, '45-49':1, '50-54':0, '05-Sep':0})\n",
    "\n",
    "dft['TS50to54'] =dft['tumor-size'].map({'15-19':0, '35-39':0, '30-34':0, '25-29':0, '40-44':0, 'Oct-14':0, '0-4':0,\n",
    "       '20-24':0, '45-49':0, '50-54':1, '05-Sep':0})\n",
    "\n",
    "dft['TS05to09'] = dft['tumor-size'].map({'15-19':0, '35-39':0, '30-34':0, '25-29':0, '40-44':0, 'Oct-14':0, '0-4':0,\n",
    "       '20-24':0, '45-49':0, '50-54':0, '05-Sep':1})\n"
   ]
  },
  {
   "cell_type": "code",
   "execution_count": 38,
   "metadata": {},
   "outputs": [],
   "source": [
    "dft['IN00-02'] = dft['inv-nodes'].map({'0-2':1, '03-May':0, '15-17':0, '06-Aug':0, '09-Nov':0, '24-26':0, 'Dec-14':0})\n",
    "\n",
    "dft['IN03-05'] = dft['inv-nodes'].map({'0-2':0, '03-May':1, '15-17':0, '06-Aug':0, '09-Nov':0, '24-26':0, 'Dec-14':0})\n",
    "\n",
    "dft['IN15-17'] = dft['inv-nodes'].map({'0-2':0, '03-May':0, '15-17':1, '06-Aug':0, '09-Nov':0, '24-26':0, 'Dec-14':0})\n",
    "\n",
    "dft['IN06-08'] = dft['inv-nodes'].map({'0-2':0, '03-May':0, '15-17':0, '06-Aug':1, '09-Nov':0, '24-26':0, 'Dec-14':0})\n",
    "\n",
    "dft['IN09-11'] = dft['inv-nodes'].map({'0-2':0, '03-May':0, '15-17':0, '06-Aug':0, '09-Nov':1, '24-26':0, 'Dec-14':0})\n",
    "\n",
    "dft['IN24-26'] = dft['inv-nodes'].map({'0-2':0, '03-May':0, '15-17':0, '06-Aug':0, '09-Nov':0, '24-26':1, 'Dec-14':0})\n",
    "\n",
    "dft['IN12-14'] = dft['inv-nodes'].map({'0-2':0, '03-May':0, '15-17':0, '06-Aug':0, '09-Nov':0, '24-26':0, 'Dec-14':1})\n"
   ]
  },
  {
   "cell_type": "code",
   "execution_count": 39,
   "metadata": {},
   "outputs": [],
   "source": [
    "dft['Nodecapsule-Yes'] = dft['node-caps'].map({'yes':1, 'no':0})\n",
    "\n",
    "dft['Nodecapsule-No'] = dft['node-caps'].map({'yes':0, 'no':1})"
   ]
  },
  {
   "cell_type": "code",
   "execution_count": 40,
   "metadata": {},
   "outputs": [],
   "source": [
    "dft['Breast-@-Right'] = dft['breast'].map({'right':1, 'left':0})\n",
    "\n",
    "dft['Breast-@-Left'] = dft['breast'].map({'right':0, 'left':1})"
   ]
  },
  {
   "cell_type": "code",
   "execution_count": 41,
   "metadata": {},
   "outputs": [],
   "source": [
    "dft['Breast-@-Left_Up'] = dft['breast-quad'].map({'left_up':1, 'central':0, 'left_low':0, 'right_up':0, 'right_low':0})\n",
    "\n",
    "dft['Breast-@-Central'] = dft['breast-quad'].map({'left_up':0, 'central':1, 'left_low':0, 'right_up':0, 'right_low':0})\n",
    "\n",
    "dft['Breast-@-Left_Down'] = dft['breast-quad'].map({'left_up':0, 'central':0, 'left_low':1, 'right_up':0, 'right_low':0})\n",
    "\n",
    "dft['Breast-@-Right_Up'] = dft['breast-quad'].map({'left_up':0, 'central':0, 'left_low':0, 'right_up':1, 'right_low':0})\n",
    "\n",
    "dft['Breast-@-Right_Down'] = dft['breast-quad'].map({'left_up':0, 'central':0, 'left_low':0, 'right_up':0, 'right_low':1})"
   ]
  },
  {
   "cell_type": "code",
   "execution_count": 42,
   "metadata": {},
   "outputs": [],
   "source": [
    "dft['Radiation_Surgery:Yes'] = dft['irradiat'].map({'no':0, 'yes':1})\n",
    "\n",
    "dft['Radiation_Surgery:No'] = dft['irradiat'].map({'no':1, 'yes':0})"
   ]
  },
  {
   "cell_type": "code",
   "execution_count": 43,
   "metadata": {},
   "outputs": [],
   "source": [
    "dft['After_Treatment:Reappearing'] = dft['Class'].map({'recurrence-events':1, 'no-recurrence-events':0})\n",
    "\n",
    "dft['After_Treatment:Healthy'] = dft['Class'].map({'recurrence-events':0, 'no-recurrence-events':1})"
   ]
  },
  {
   "cell_type": "code",
   "execution_count": 44,
   "metadata": {},
   "outputs": [],
   "source": [
    "dft['TSt'] = dft['tumor-size'].map({'15-19':'T1c', '35-39':'T2', '30-34':'T2', '25-29':'T2', '40-44':'T2', 'Oct-14':'T1b', '0-4':'T1a',\n",
    "       '20-24':'T1', '45-49':'T2', '50-54':'T3', '05-Sep':'T1a'})\n"
   ]
  },
  {
   "cell_type": "code",
   "execution_count": 45,
   "metadata": {},
   "outputs": [],
   "source": [
    "dft['NSt'] = dft['inv-nodes'].map({'0-2':'N0', '03-May':'N1', '15-17':'N3', '06-Aug':'N2', '09-Nov':'N2', '24-26':'N3', 'Dec-14':'N3'})"
   ]
  },
  {
   "cell_type": "code",
   "execution_count": 46,
   "metadata": {},
   "outputs": [],
   "source": [
    "dft['MSt'] = dft['irradiat'].map({'no':'M0', 'yes':'M1'})"
   ]
  },
  {
   "cell_type": "code",
   "execution_count": 47,
   "metadata": {},
   "outputs": [],
   "source": [
    "dft['TN'] = dft['TSt'].str.cat(dft['NSt'], sep =\"-\") "
   ]
  },
  {
   "cell_type": "code",
   "execution_count": 48,
   "metadata": {},
   "outputs": [],
   "source": [
    "dft['TNM']=dft['TN'].str.cat(dft['MSt'], sep =\"-\") "
   ]
  },
  {
   "cell_type": "code",
   "execution_count": 49,
   "metadata": {},
   "outputs": [
    {
     "data": {
      "text/html": [
       "<div>\n",
       "<style scoped>\n",
       "    .dataframe tbody tr th:only-of-type {\n",
       "        vertical-align: middle;\n",
       "    }\n",
       "\n",
       "    .dataframe tbody tr th {\n",
       "        vertical-align: top;\n",
       "    }\n",
       "\n",
       "    .dataframe thead th {\n",
       "        text-align: right;\n",
       "    }\n",
       "</style>\n",
       "<table border=\"1\" class=\"dataframe\">\n",
       "  <thead>\n",
       "    <tr style=\"text-align: right;\">\n",
       "      <th></th>\n",
       "      <th>age</th>\n",
       "      <th>menopause</th>\n",
       "      <th>tumor-size</th>\n",
       "      <th>inv-nodes</th>\n",
       "      <th>node-caps</th>\n",
       "      <th>deg-malig</th>\n",
       "      <th>breast</th>\n",
       "      <th>breast-quad</th>\n",
       "      <th>irradiat</th>\n",
       "      <th>Class</th>\n",
       "      <th>...</th>\n",
       "      <th>Breast-@-Right_Down</th>\n",
       "      <th>Radiation_Surgery:Yes</th>\n",
       "      <th>Radiation_Surgery:No</th>\n",
       "      <th>After_Treatment:Reappearing</th>\n",
       "      <th>After_Treatment:Healthy</th>\n",
       "      <th>TSt</th>\n",
       "      <th>NSt</th>\n",
       "      <th>MSt</th>\n",
       "      <th>TN</th>\n",
       "      <th>TNM</th>\n",
       "    </tr>\n",
       "  </thead>\n",
       "  <tbody>\n",
       "    <tr>\n",
       "      <td>0</td>\n",
       "      <td>40-49</td>\n",
       "      <td>premeno</td>\n",
       "      <td>15-19</td>\n",
       "      <td>0-2</td>\n",
       "      <td>yes</td>\n",
       "      <td>3</td>\n",
       "      <td>right</td>\n",
       "      <td>left_up</td>\n",
       "      <td>no</td>\n",
       "      <td>recurrence-events</td>\n",
       "      <td>...</td>\n",
       "      <td>0</td>\n",
       "      <td>0</td>\n",
       "      <td>1</td>\n",
       "      <td>1</td>\n",
       "      <td>0</td>\n",
       "      <td>T1c</td>\n",
       "      <td>N0</td>\n",
       "      <td>M0</td>\n",
       "      <td>T1c-N0</td>\n",
       "      <td>T1c-N0-M0</td>\n",
       "    </tr>\n",
       "    <tr>\n",
       "      <td>1</td>\n",
       "      <td>50-59</td>\n",
       "      <td>ge40</td>\n",
       "      <td>15-19</td>\n",
       "      <td>0-2</td>\n",
       "      <td>no</td>\n",
       "      <td>1</td>\n",
       "      <td>right</td>\n",
       "      <td>central</td>\n",
       "      <td>no</td>\n",
       "      <td>no-recurrence-events</td>\n",
       "      <td>...</td>\n",
       "      <td>0</td>\n",
       "      <td>0</td>\n",
       "      <td>1</td>\n",
       "      <td>0</td>\n",
       "      <td>1</td>\n",
       "      <td>T1c</td>\n",
       "      <td>N0</td>\n",
       "      <td>M0</td>\n",
       "      <td>T1c-N0</td>\n",
       "      <td>T1c-N0-M0</td>\n",
       "    </tr>\n",
       "    <tr>\n",
       "      <td>2</td>\n",
       "      <td>50-59</td>\n",
       "      <td>ge40</td>\n",
       "      <td>35-39</td>\n",
       "      <td>0-2</td>\n",
       "      <td>no</td>\n",
       "      <td>2</td>\n",
       "      <td>left</td>\n",
       "      <td>left_low</td>\n",
       "      <td>no</td>\n",
       "      <td>recurrence-events</td>\n",
       "      <td>...</td>\n",
       "      <td>0</td>\n",
       "      <td>0</td>\n",
       "      <td>1</td>\n",
       "      <td>1</td>\n",
       "      <td>0</td>\n",
       "      <td>T2</td>\n",
       "      <td>N0</td>\n",
       "      <td>M0</td>\n",
       "      <td>T2-N0</td>\n",
       "      <td>T2-N0-M0</td>\n",
       "    </tr>\n",
       "    <tr>\n",
       "      <td>3</td>\n",
       "      <td>40-49</td>\n",
       "      <td>premeno</td>\n",
       "      <td>35-39</td>\n",
       "      <td>0-2</td>\n",
       "      <td>yes</td>\n",
       "      <td>3</td>\n",
       "      <td>right</td>\n",
       "      <td>left_low</td>\n",
       "      <td>yes</td>\n",
       "      <td>no-recurrence-events</td>\n",
       "      <td>...</td>\n",
       "      <td>0</td>\n",
       "      <td>1</td>\n",
       "      <td>0</td>\n",
       "      <td>0</td>\n",
       "      <td>1</td>\n",
       "      <td>T2</td>\n",
       "      <td>N0</td>\n",
       "      <td>M1</td>\n",
       "      <td>T2-N0</td>\n",
       "      <td>T2-N0-M1</td>\n",
       "    </tr>\n",
       "    <tr>\n",
       "      <td>4</td>\n",
       "      <td>40-49</td>\n",
       "      <td>premeno</td>\n",
       "      <td>30-34</td>\n",
       "      <td>03-May</td>\n",
       "      <td>yes</td>\n",
       "      <td>2</td>\n",
       "      <td>left</td>\n",
       "      <td>right_up</td>\n",
       "      <td>no</td>\n",
       "      <td>recurrence-events</td>\n",
       "      <td>...</td>\n",
       "      <td>0</td>\n",
       "      <td>0</td>\n",
       "      <td>1</td>\n",
       "      <td>1</td>\n",
       "      <td>0</td>\n",
       "      <td>T2</td>\n",
       "      <td>N1</td>\n",
       "      <td>M0</td>\n",
       "      <td>T2-N1</td>\n",
       "      <td>T2-N1-M0</td>\n",
       "    </tr>\n",
       "  </tbody>\n",
       "</table>\n",
       "<p>5 rows × 54 columns</p>\n",
       "</div>"
      ],
      "text/plain": [
       "     age menopause tumor-size inv-nodes node-caps  deg-malig breast  \\\n",
       "0  40-49   premeno      15-19       0-2       yes          3  right   \n",
       "1  50-59      ge40      15-19       0-2        no          1  right   \n",
       "2  50-59      ge40      35-39       0-2        no          2   left   \n",
       "3  40-49   premeno      35-39       0-2       yes          3  right   \n",
       "4  40-49   premeno      30-34    03-May       yes          2   left   \n",
       "\n",
       "  breast-quad irradiat                 Class  ...  Breast-@-Right_Down  \\\n",
       "0     left_up       no     recurrence-events  ...                    0   \n",
       "1     central       no  no-recurrence-events  ...                    0   \n",
       "2    left_low       no     recurrence-events  ...                    0   \n",
       "3    left_low      yes  no-recurrence-events  ...                    0   \n",
       "4    right_up       no     recurrence-events  ...                    0   \n",
       "\n",
       "   Radiation_Surgery:Yes  Radiation_Surgery:No  After_Treatment:Reappearing  \\\n",
       "0                      0                     1                            1   \n",
       "1                      0                     1                            0   \n",
       "2                      0                     1                            1   \n",
       "3                      1                     0                            0   \n",
       "4                      0                     1                            1   \n",
       "\n",
       "   After_Treatment:Healthy  TSt  NSt  MSt      TN        TNM  \n",
       "0                        0  T1c   N0   M0  T1c-N0  T1c-N0-M0  \n",
       "1                        1  T1c   N0   M0  T1c-N0  T1c-N0-M0  \n",
       "2                        0   T2   N0   M0   T2-N0   T2-N0-M0  \n",
       "3                        1   T2   N0   M1   T2-N0   T2-N0-M1  \n",
       "4                        0   T2   N1   M0   T2-N1   T2-N1-M0  \n",
       "\n",
       "[5 rows x 54 columns]"
      ]
     },
     "execution_count": 49,
     "metadata": {},
     "output_type": "execute_result"
    }
   ],
   "source": [
    "dft.head()"
   ]
  },
  {
   "cell_type": "code",
   "execution_count": 50,
   "metadata": {},
   "outputs": [
    {
     "data": {
      "text/plain": [
       "Index(['age', 'menopause', 'tumor-size', 'inv-nodes', 'node-caps', 'deg-malig',\n",
       "       'breast', 'breast-quad', 'irradiat', 'Class', 'PtAgeBtw:40-49',\n",
       "       'PtAgeBtw:50-59', 'PtAgeBtw:60-69', 'PtAgeBtw:30-39', 'PtAgeBtw:70-79',\n",
       "       'PtAgeBtw:20-29', 'Premenopausal', 'Postmenopausal', 'TS15to19',\n",
       "       'TS35to39', 'TS30to34', 'TS25to29', 'TS40to44', 'TS10to14', 'TS00to04',\n",
       "       'TS20to24', 'TS45to49', 'TS50to54', 'TS05to09', 'IN00-02', 'IN03-05',\n",
       "       'IN15-17', 'IN06-08', 'IN09-11', 'IN24-26', 'IN12-14',\n",
       "       'Nodecapsule-Yes', 'Nodecapsule-No', 'Breast-@-Right', 'Breast-@-Left',\n",
       "       'Breast-@-Left_Up', 'Breast-@-Central', 'Breast-@-Left_Down',\n",
       "       'Breast-@-Right_Up', 'Breast-@-Right_Down', 'Radiation_Surgery:Yes',\n",
       "       'Radiation_Surgery:No', 'After_Treatment:Reappearing',\n",
       "       'After_Treatment:Healthy', 'TSt', 'NSt', 'MSt', 'TN', 'TNM'],\n",
       "      dtype='object')"
      ]
     },
     "execution_count": 50,
     "metadata": {},
     "output_type": "execute_result"
    }
   ],
   "source": [
    "dft.columns"
   ]
  },
  {
   "cell_type": "code",
   "execution_count": 51,
   "metadata": {},
   "outputs": [],
   "source": [
    "del dft['age']\n",
    "del dft['menopause']\n",
    "del dft['tumor-size']\n",
    "del dft['inv-nodes']"
   ]
  },
  {
   "cell_type": "code",
   "execution_count": 52,
   "metadata": {},
   "outputs": [],
   "source": [
    "\n",
    "del dft['node-caps']\n",
    "del dft['deg-malig']\n",
    "del dft['breast']\n",
    "del dft['breast-quad']\n",
    "del dft['irradiat']\n",
    "del dft['Class']\n",
    "del dft['TSt']\n",
    "del dft['NSt']\n",
    "del dft['MSt']\n",
    "del dft['TN']"
   ]
  },
  {
   "cell_type": "code",
   "execution_count": 53,
   "metadata": {
    "scrolled": true
   },
   "outputs": [
    {
     "data": {
      "text/html": [
       "<div>\n",
       "<style scoped>\n",
       "    .dataframe tbody tr th:only-of-type {\n",
       "        vertical-align: middle;\n",
       "    }\n",
       "\n",
       "    .dataframe tbody tr th {\n",
       "        vertical-align: top;\n",
       "    }\n",
       "\n",
       "    .dataframe thead th {\n",
       "        text-align: right;\n",
       "    }\n",
       "</style>\n",
       "<table border=\"1\" class=\"dataframe\">\n",
       "  <thead>\n",
       "    <tr style=\"text-align: right;\">\n",
       "      <th></th>\n",
       "      <th>PtAgeBtw:40-49</th>\n",
       "      <th>PtAgeBtw:50-59</th>\n",
       "      <th>PtAgeBtw:60-69</th>\n",
       "      <th>PtAgeBtw:30-39</th>\n",
       "      <th>PtAgeBtw:70-79</th>\n",
       "      <th>PtAgeBtw:20-29</th>\n",
       "      <th>Premenopausal</th>\n",
       "      <th>Postmenopausal</th>\n",
       "      <th>TS15to19</th>\n",
       "      <th>TS35to39</th>\n",
       "      <th>...</th>\n",
       "      <th>Breast-@-Left_Up</th>\n",
       "      <th>Breast-@-Central</th>\n",
       "      <th>Breast-@-Left_Down</th>\n",
       "      <th>Breast-@-Right_Up</th>\n",
       "      <th>Breast-@-Right_Down</th>\n",
       "      <th>Radiation_Surgery:Yes</th>\n",
       "      <th>Radiation_Surgery:No</th>\n",
       "      <th>After_Treatment:Reappearing</th>\n",
       "      <th>After_Treatment:Healthy</th>\n",
       "      <th>TNM</th>\n",
       "    </tr>\n",
       "  </thead>\n",
       "  <tbody>\n",
       "    <tr>\n",
       "      <td>0</td>\n",
       "      <td>1</td>\n",
       "      <td>0</td>\n",
       "      <td>0</td>\n",
       "      <td>0</td>\n",
       "      <td>0</td>\n",
       "      <td>0</td>\n",
       "      <td>1</td>\n",
       "      <td>0</td>\n",
       "      <td>1</td>\n",
       "      <td>0</td>\n",
       "      <td>...</td>\n",
       "      <td>1</td>\n",
       "      <td>0</td>\n",
       "      <td>0</td>\n",
       "      <td>0</td>\n",
       "      <td>0</td>\n",
       "      <td>0</td>\n",
       "      <td>1</td>\n",
       "      <td>1</td>\n",
       "      <td>0</td>\n",
       "      <td>T1c-N0-M0</td>\n",
       "    </tr>\n",
       "    <tr>\n",
       "      <td>1</td>\n",
       "      <td>0</td>\n",
       "      <td>1</td>\n",
       "      <td>0</td>\n",
       "      <td>0</td>\n",
       "      <td>0</td>\n",
       "      <td>0</td>\n",
       "      <td>0</td>\n",
       "      <td>1</td>\n",
       "      <td>1</td>\n",
       "      <td>0</td>\n",
       "      <td>...</td>\n",
       "      <td>0</td>\n",
       "      <td>1</td>\n",
       "      <td>0</td>\n",
       "      <td>0</td>\n",
       "      <td>0</td>\n",
       "      <td>0</td>\n",
       "      <td>1</td>\n",
       "      <td>0</td>\n",
       "      <td>1</td>\n",
       "      <td>T1c-N0-M0</td>\n",
       "    </tr>\n",
       "    <tr>\n",
       "      <td>2</td>\n",
       "      <td>0</td>\n",
       "      <td>1</td>\n",
       "      <td>0</td>\n",
       "      <td>0</td>\n",
       "      <td>0</td>\n",
       "      <td>0</td>\n",
       "      <td>0</td>\n",
       "      <td>1</td>\n",
       "      <td>0</td>\n",
       "      <td>1</td>\n",
       "      <td>...</td>\n",
       "      <td>0</td>\n",
       "      <td>0</td>\n",
       "      <td>1</td>\n",
       "      <td>0</td>\n",
       "      <td>0</td>\n",
       "      <td>0</td>\n",
       "      <td>1</td>\n",
       "      <td>1</td>\n",
       "      <td>0</td>\n",
       "      <td>T2-N0-M0</td>\n",
       "    </tr>\n",
       "    <tr>\n",
       "      <td>3</td>\n",
       "      <td>1</td>\n",
       "      <td>0</td>\n",
       "      <td>0</td>\n",
       "      <td>0</td>\n",
       "      <td>0</td>\n",
       "      <td>0</td>\n",
       "      <td>1</td>\n",
       "      <td>0</td>\n",
       "      <td>0</td>\n",
       "      <td>1</td>\n",
       "      <td>...</td>\n",
       "      <td>0</td>\n",
       "      <td>0</td>\n",
       "      <td>1</td>\n",
       "      <td>0</td>\n",
       "      <td>0</td>\n",
       "      <td>1</td>\n",
       "      <td>0</td>\n",
       "      <td>0</td>\n",
       "      <td>1</td>\n",
       "      <td>T2-N0-M1</td>\n",
       "    </tr>\n",
       "    <tr>\n",
       "      <td>4</td>\n",
       "      <td>1</td>\n",
       "      <td>0</td>\n",
       "      <td>0</td>\n",
       "      <td>0</td>\n",
       "      <td>0</td>\n",
       "      <td>0</td>\n",
       "      <td>1</td>\n",
       "      <td>0</td>\n",
       "      <td>0</td>\n",
       "      <td>0</td>\n",
       "      <td>...</td>\n",
       "      <td>0</td>\n",
       "      <td>0</td>\n",
       "      <td>0</td>\n",
       "      <td>1</td>\n",
       "      <td>0</td>\n",
       "      <td>0</td>\n",
       "      <td>1</td>\n",
       "      <td>1</td>\n",
       "      <td>0</td>\n",
       "      <td>T2-N1-M0</td>\n",
       "    </tr>\n",
       "  </tbody>\n",
       "</table>\n",
       "<p>5 rows × 40 columns</p>\n",
       "</div>"
      ],
      "text/plain": [
       "   PtAgeBtw:40-49  PtAgeBtw:50-59  PtAgeBtw:60-69  PtAgeBtw:30-39  \\\n",
       "0               1               0               0               0   \n",
       "1               0               1               0               0   \n",
       "2               0               1               0               0   \n",
       "3               1               0               0               0   \n",
       "4               1               0               0               0   \n",
       "\n",
       "   PtAgeBtw:70-79  PtAgeBtw:20-29  Premenopausal  Postmenopausal  TS15to19  \\\n",
       "0               0               0              1               0         1   \n",
       "1               0               0              0               1         1   \n",
       "2               0               0              0               1         0   \n",
       "3               0               0              1               0         0   \n",
       "4               0               0              1               0         0   \n",
       "\n",
       "   TS35to39  ...  Breast-@-Left_Up  Breast-@-Central  Breast-@-Left_Down  \\\n",
       "0         0  ...                 1                 0                   0   \n",
       "1         0  ...                 0                 1                   0   \n",
       "2         1  ...                 0                 0                   1   \n",
       "3         1  ...                 0                 0                   1   \n",
       "4         0  ...                 0                 0                   0   \n",
       "\n",
       "   Breast-@-Right_Up  Breast-@-Right_Down  Radiation_Surgery:Yes  \\\n",
       "0                  0                    0                      0   \n",
       "1                  0                    0                      0   \n",
       "2                  0                    0                      0   \n",
       "3                  0                    0                      1   \n",
       "4                  1                    0                      0   \n",
       "\n",
       "   Radiation_Surgery:No  After_Treatment:Reappearing  After_Treatment:Healthy  \\\n",
       "0                     1                            1                        0   \n",
       "1                     1                            0                        1   \n",
       "2                     1                            1                        0   \n",
       "3                     0                            0                        1   \n",
       "4                     1                            1                        0   \n",
       "\n",
       "         TNM  \n",
       "0  T1c-N0-M0  \n",
       "1  T1c-N0-M0  \n",
       "2   T2-N0-M0  \n",
       "3   T2-N0-M1  \n",
       "4   T2-N1-M0  \n",
       "\n",
       "[5 rows x 40 columns]"
      ]
     },
     "execution_count": 53,
     "metadata": {},
     "output_type": "execute_result"
    }
   ],
   "source": [
    "dft.head()"
   ]
  },
  {
   "cell_type": "markdown",
   "metadata": {},
   "source": [
    "# Process Grade:"
   ]
  },
  {
   "cell_type": "code",
   "execution_count": 54,
   "metadata": {},
   "outputs": [],
   "source": [
    "l1=['PtAgeBtw:40-49','PtAgeBtw:50-59', 'PtAgeBtw:60-69','PtAgeBtw:30-39', 'PtAgeBtw:70-79', 'PtAgeBtw:20-29']"
   ]
  },
  {
   "cell_type": "code",
   "execution_count": 55,
   "metadata": {},
   "outputs": [],
   "source": [
    "l2=['Premenopausal', 'Postmenopausal']"
   ]
  },
  {
   "cell_type": "code",
   "execution_count": 56,
   "metadata": {},
   "outputs": [],
   "source": [
    "l3=['TS15to19','TS35to39','TS30to34','TS25to29','TS40to44','TS10to14','TS00to04','TS20to24','TS45to49','TS50to54','TS05to09']"
   ]
  },
  {
   "cell_type": "code",
   "execution_count": 57,
   "metadata": {},
   "outputs": [],
   "source": [
    "l4=['IN00-02', 'IN03-05', 'IN15-17', 'IN06-08', 'IN09-11','IN24-26', 'IN12-14']"
   ]
  },
  {
   "cell_type": "code",
   "execution_count": 58,
   "metadata": {},
   "outputs": [],
   "source": [
    "l5=['Nodecapsule-Yes', 'Nodecapsule-No']"
   ]
  },
  {
   "cell_type": "code",
   "execution_count": 59,
   "metadata": {},
   "outputs": [],
   "source": [
    "l6=['Breast-@-Right', 'Breast-@-Left']"
   ]
  },
  {
   "cell_type": "code",
   "execution_count": 60,
   "metadata": {},
   "outputs": [],
   "source": [
    "l7=['Breast-@-Left_Up', 'Breast-@-Central', 'Breast-@-Left_Down','Breast-@-Right_Up', 'Breast-@-Right_Down']"
   ]
  },
  {
   "cell_type": "code",
   "execution_count": 61,
   "metadata": {},
   "outputs": [],
   "source": [
    "l8=['Radiation_Surgery:Yes','Radiation_Surgery:No']"
   ]
  },
  {
   "cell_type": "code",
   "execution_count": 62,
   "metadata": {},
   "outputs": [],
   "source": [
    "l9=['After_Treatment:Reappearing','After_Treatment:Healthy']"
   ]
  },
  {
   "cell_type": "code",
   "execution_count": 63,
   "metadata": {},
   "outputs": [],
   "source": [
    "l10=['PtAgeBtw:40-49','PtAgeBtw:50-59', 'PtAgeBtw:60-69','PtAgeBtw:30-39', 'PtAgeBtw:70-79', 'PtAgeBtw:20-29','Premenopausal', 'Postmenopausal','TS15to19','TS35to39','TS30to34','TS25to29','TS40to44','TS10to14','TS00to04','TS20to24','TS45to49','TS50to54','TS05to09','IN00-02', 'IN03-05', 'IN15-17', 'IN06-08', 'IN09-11','IN24-26', 'IN12-14','Nodecapsule-Yes', 'Nodecapsule-No','Breast-@-Right', 'Breast-@-Left','Breast-@-Left_Up', 'Breast-@-Central', 'Breast-@-Left_Down','Breast-@-Right_Up', 'Breast-@-Right_Down','Radiation_Surgery:Yes','Radiation_Surgery:No','After_Treatment:Reappearing','After_Treatment:Healthy']"
   ]
  },
  {
   "cell_type": "code",
   "execution_count": 64,
   "metadata": {},
   "outputs": [],
   "source": [
    "l12=['PtAgeBtw:40-49','PtAgeBtw:50-59', 'PtAgeBtw:60-69','PtAgeBtw:30-39', 'PtAgeBtw:70-79', 'PtAgeBtw:20-29','Premenopausal', 'Postmenopausal','TS15to19','TS35to39','TS30to34','TS25to29','TS40to44','TS10to14','TS00to04','TS20to24','TS45to49','TS50to54','TS05to09','IN00-02', 'IN03-05', 'IN15-17', 'IN06-08', 'IN09-11','IN24-26', 'IN12-14','Nodecapsule-Yes', 'Nodecapsule-No','Breast-@-Right', 'Breast-@-Left','Breast-@-Left_Up', 'Breast-@-Central', 'Breast-@-Left_Down','Breast-@-Right_Up', 'Breast-@-Right_Down','Radiation_Surgery:Yes','Radiation_Surgery:No','After_Treatment:Reappearing','After_Treatment:Healthy']"
   ]
  },
  {
   "cell_type": "code",
   "execution_count": 65,
   "metadata": {
    "scrolled": false
   },
   "outputs": [
    {
     "data": {
      "text/html": [
       "<div>\n",
       "<style scoped>\n",
       "    .dataframe tbody tr th:only-of-type {\n",
       "        vertical-align: middle;\n",
       "    }\n",
       "\n",
       "    .dataframe tbody tr th {\n",
       "        vertical-align: top;\n",
       "    }\n",
       "\n",
       "    .dataframe thead th {\n",
       "        text-align: right;\n",
       "    }\n",
       "</style>\n",
       "<table border=\"1\" class=\"dataframe\">\n",
       "  <thead>\n",
       "    <tr style=\"text-align: right;\">\n",
       "      <th></th>\n",
       "      <th>deg-malig</th>\n",
       "      <th>PtAgeBtw:40-49</th>\n",
       "      <th>PtAgeBtw:50-59</th>\n",
       "      <th>PtAgeBtw:60-69</th>\n",
       "      <th>PtAgeBtw:30-39</th>\n",
       "      <th>PtAgeBtw:70-79</th>\n",
       "      <th>PtAgeBtw:20-29</th>\n",
       "      <th>Premenopausal</th>\n",
       "      <th>Postmenopausal</th>\n",
       "      <th>TS15to19</th>\n",
       "      <th>...</th>\n",
       "      <th>Breast-@-Left</th>\n",
       "      <th>Breast-@-Left_Up</th>\n",
       "      <th>Breast-@-Central</th>\n",
       "      <th>Breast-@-Left_Down</th>\n",
       "      <th>Breast-@-Right_Up</th>\n",
       "      <th>Breast-@-Right_Down</th>\n",
       "      <th>Radiation_Surgery:Yes</th>\n",
       "      <th>Radiation_Surgery:No</th>\n",
       "      <th>After_Treatment:Reappearing</th>\n",
       "      <th>After_Treatment:Healthy</th>\n",
       "    </tr>\n",
       "  </thead>\n",
       "  <tbody>\n",
       "    <tr>\n",
       "      <td>0</td>\n",
       "      <td>Grade-3</td>\n",
       "      <td>1</td>\n",
       "      <td>0</td>\n",
       "      <td>0</td>\n",
       "      <td>0</td>\n",
       "      <td>0</td>\n",
       "      <td>0</td>\n",
       "      <td>1</td>\n",
       "      <td>0</td>\n",
       "      <td>1</td>\n",
       "      <td>...</td>\n",
       "      <td>0</td>\n",
       "      <td>1</td>\n",
       "      <td>0</td>\n",
       "      <td>0</td>\n",
       "      <td>0</td>\n",
       "      <td>0</td>\n",
       "      <td>0</td>\n",
       "      <td>1</td>\n",
       "      <td>1</td>\n",
       "      <td>0</td>\n",
       "    </tr>\n",
       "    <tr>\n",
       "      <td>1</td>\n",
       "      <td>Grade-1</td>\n",
       "      <td>0</td>\n",
       "      <td>1</td>\n",
       "      <td>0</td>\n",
       "      <td>0</td>\n",
       "      <td>0</td>\n",
       "      <td>0</td>\n",
       "      <td>0</td>\n",
       "      <td>1</td>\n",
       "      <td>1</td>\n",
       "      <td>...</td>\n",
       "      <td>0</td>\n",
       "      <td>0</td>\n",
       "      <td>1</td>\n",
       "      <td>0</td>\n",
       "      <td>0</td>\n",
       "      <td>0</td>\n",
       "      <td>0</td>\n",
       "      <td>1</td>\n",
       "      <td>0</td>\n",
       "      <td>1</td>\n",
       "    </tr>\n",
       "    <tr>\n",
       "      <td>2</td>\n",
       "      <td>Grade-2</td>\n",
       "      <td>0</td>\n",
       "      <td>1</td>\n",
       "      <td>0</td>\n",
       "      <td>0</td>\n",
       "      <td>0</td>\n",
       "      <td>0</td>\n",
       "      <td>0</td>\n",
       "      <td>1</td>\n",
       "      <td>0</td>\n",
       "      <td>...</td>\n",
       "      <td>1</td>\n",
       "      <td>0</td>\n",
       "      <td>0</td>\n",
       "      <td>1</td>\n",
       "      <td>0</td>\n",
       "      <td>0</td>\n",
       "      <td>0</td>\n",
       "      <td>1</td>\n",
       "      <td>1</td>\n",
       "      <td>0</td>\n",
       "    </tr>\n",
       "    <tr>\n",
       "      <td>3</td>\n",
       "      <td>Grade-3</td>\n",
       "      <td>1</td>\n",
       "      <td>0</td>\n",
       "      <td>0</td>\n",
       "      <td>0</td>\n",
       "      <td>0</td>\n",
       "      <td>0</td>\n",
       "      <td>1</td>\n",
       "      <td>0</td>\n",
       "      <td>0</td>\n",
       "      <td>...</td>\n",
       "      <td>0</td>\n",
       "      <td>0</td>\n",
       "      <td>0</td>\n",
       "      <td>1</td>\n",
       "      <td>0</td>\n",
       "      <td>0</td>\n",
       "      <td>1</td>\n",
       "      <td>0</td>\n",
       "      <td>0</td>\n",
       "      <td>1</td>\n",
       "    </tr>\n",
       "    <tr>\n",
       "      <td>4</td>\n",
       "      <td>Grade-2</td>\n",
       "      <td>1</td>\n",
       "      <td>0</td>\n",
       "      <td>0</td>\n",
       "      <td>0</td>\n",
       "      <td>0</td>\n",
       "      <td>0</td>\n",
       "      <td>1</td>\n",
       "      <td>0</td>\n",
       "      <td>0</td>\n",
       "      <td>...</td>\n",
       "      <td>1</td>\n",
       "      <td>0</td>\n",
       "      <td>0</td>\n",
       "      <td>0</td>\n",
       "      <td>1</td>\n",
       "      <td>0</td>\n",
       "      <td>0</td>\n",
       "      <td>1</td>\n",
       "      <td>1</td>\n",
       "      <td>0</td>\n",
       "    </tr>\n",
       "  </tbody>\n",
       "</table>\n",
       "<p>5 rows × 43 columns</p>\n",
       "</div>"
      ],
      "text/plain": [
       "  deg-malig  PtAgeBtw:40-49  PtAgeBtw:50-59  PtAgeBtw:60-69  PtAgeBtw:30-39  \\\n",
       "0   Grade-3               1               0               0               0   \n",
       "1   Grade-1               0               1               0               0   \n",
       "2   Grade-2               0               1               0               0   \n",
       "3   Grade-3               1               0               0               0   \n",
       "4   Grade-2               1               0               0               0   \n",
       "\n",
       "   PtAgeBtw:70-79  PtAgeBtw:20-29  Premenopausal  Postmenopausal  TS15to19  \\\n",
       "0               0               0              1               0         1   \n",
       "1               0               0              0               1         1   \n",
       "2               0               0              0               1         0   \n",
       "3               0               0              1               0         0   \n",
       "4               0               0              1               0         0   \n",
       "\n",
       "   ...  Breast-@-Left  Breast-@-Left_Up  Breast-@-Central  Breast-@-Left_Down  \\\n",
       "0  ...              0                 1                 0                   0   \n",
       "1  ...              0                 0                 1                   0   \n",
       "2  ...              1                 0                 0                   1   \n",
       "3  ...              0                 0                 0                   1   \n",
       "4  ...              1                 0                 0                   0   \n",
       "\n",
       "   Breast-@-Right_Up  Breast-@-Right_Down  Radiation_Surgery:Yes  \\\n",
       "0                  0                    0                      0   \n",
       "1                  0                    0                      0   \n",
       "2                  0                    0                      0   \n",
       "3                  0                    0                      1   \n",
       "4                  1                    0                      0   \n",
       "\n",
       "   Radiation_Surgery:No  After_Treatment:Reappearing  After_Treatment:Healthy  \n",
       "0                     1                            1                        0  \n",
       "1                     1                            0                        1  \n",
       "2                     1                            1                        0  \n",
       "3                     0                            0                        1  \n",
       "4                     1                            1                        0  \n",
       "\n",
       "[5 rows x 43 columns]"
      ]
     },
     "execution_count": 65,
     "metadata": {},
     "output_type": "execute_result"
    }
   ],
   "source": [
    "df.head()"
   ]
  },
  {
   "cell_type": "code",
   "execution_count": 66,
   "metadata": {},
   "outputs": [
    {
     "data": {
      "text/html": [
       "<div>\n",
       "<style scoped>\n",
       "    .dataframe tbody tr th:only-of-type {\n",
       "        vertical-align: middle;\n",
       "    }\n",
       "\n",
       "    .dataframe tbody tr th {\n",
       "        vertical-align: top;\n",
       "    }\n",
       "\n",
       "    .dataframe thead th {\n",
       "        text-align: right;\n",
       "    }\n",
       "</style>\n",
       "<table border=\"1\" class=\"dataframe\">\n",
       "  <thead>\n",
       "    <tr style=\"text-align: right;\">\n",
       "      <th></th>\n",
       "      <th>PtAgeBtw:40-49</th>\n",
       "      <th>PtAgeBtw:50-59</th>\n",
       "      <th>PtAgeBtw:60-69</th>\n",
       "      <th>PtAgeBtw:30-39</th>\n",
       "      <th>PtAgeBtw:70-79</th>\n",
       "      <th>PtAgeBtw:20-29</th>\n",
       "      <th>Premenopausal</th>\n",
       "      <th>Postmenopausal</th>\n",
       "      <th>TS15to19</th>\n",
       "      <th>TS35to39</th>\n",
       "      <th>...</th>\n",
       "      <th>Breast-@-Left_Up</th>\n",
       "      <th>Breast-@-Central</th>\n",
       "      <th>Breast-@-Left_Down</th>\n",
       "      <th>Breast-@-Right_Up</th>\n",
       "      <th>Breast-@-Right_Down</th>\n",
       "      <th>Radiation_Surgery:Yes</th>\n",
       "      <th>Radiation_Surgery:No</th>\n",
       "      <th>After_Treatment:Reappearing</th>\n",
       "      <th>After_Treatment:Healthy</th>\n",
       "      <th>TNM</th>\n",
       "    </tr>\n",
       "  </thead>\n",
       "  <tbody>\n",
       "    <tr>\n",
       "      <td>0</td>\n",
       "      <td>1</td>\n",
       "      <td>0</td>\n",
       "      <td>0</td>\n",
       "      <td>0</td>\n",
       "      <td>0</td>\n",
       "      <td>0</td>\n",
       "      <td>1</td>\n",
       "      <td>0</td>\n",
       "      <td>1</td>\n",
       "      <td>0</td>\n",
       "      <td>...</td>\n",
       "      <td>1</td>\n",
       "      <td>0</td>\n",
       "      <td>0</td>\n",
       "      <td>0</td>\n",
       "      <td>0</td>\n",
       "      <td>0</td>\n",
       "      <td>1</td>\n",
       "      <td>1</td>\n",
       "      <td>0</td>\n",
       "      <td>T1c-N0-M0</td>\n",
       "    </tr>\n",
       "    <tr>\n",
       "      <td>1</td>\n",
       "      <td>0</td>\n",
       "      <td>1</td>\n",
       "      <td>0</td>\n",
       "      <td>0</td>\n",
       "      <td>0</td>\n",
       "      <td>0</td>\n",
       "      <td>0</td>\n",
       "      <td>1</td>\n",
       "      <td>1</td>\n",
       "      <td>0</td>\n",
       "      <td>...</td>\n",
       "      <td>0</td>\n",
       "      <td>1</td>\n",
       "      <td>0</td>\n",
       "      <td>0</td>\n",
       "      <td>0</td>\n",
       "      <td>0</td>\n",
       "      <td>1</td>\n",
       "      <td>0</td>\n",
       "      <td>1</td>\n",
       "      <td>T1c-N0-M0</td>\n",
       "    </tr>\n",
       "    <tr>\n",
       "      <td>2</td>\n",
       "      <td>0</td>\n",
       "      <td>1</td>\n",
       "      <td>0</td>\n",
       "      <td>0</td>\n",
       "      <td>0</td>\n",
       "      <td>0</td>\n",
       "      <td>0</td>\n",
       "      <td>1</td>\n",
       "      <td>0</td>\n",
       "      <td>1</td>\n",
       "      <td>...</td>\n",
       "      <td>0</td>\n",
       "      <td>0</td>\n",
       "      <td>1</td>\n",
       "      <td>0</td>\n",
       "      <td>0</td>\n",
       "      <td>0</td>\n",
       "      <td>1</td>\n",
       "      <td>1</td>\n",
       "      <td>0</td>\n",
       "      <td>T2-N0-M0</td>\n",
       "    </tr>\n",
       "    <tr>\n",
       "      <td>3</td>\n",
       "      <td>1</td>\n",
       "      <td>0</td>\n",
       "      <td>0</td>\n",
       "      <td>0</td>\n",
       "      <td>0</td>\n",
       "      <td>0</td>\n",
       "      <td>1</td>\n",
       "      <td>0</td>\n",
       "      <td>0</td>\n",
       "      <td>1</td>\n",
       "      <td>...</td>\n",
       "      <td>0</td>\n",
       "      <td>0</td>\n",
       "      <td>1</td>\n",
       "      <td>0</td>\n",
       "      <td>0</td>\n",
       "      <td>1</td>\n",
       "      <td>0</td>\n",
       "      <td>0</td>\n",
       "      <td>1</td>\n",
       "      <td>T2-N0-M1</td>\n",
       "    </tr>\n",
       "    <tr>\n",
       "      <td>4</td>\n",
       "      <td>1</td>\n",
       "      <td>0</td>\n",
       "      <td>0</td>\n",
       "      <td>0</td>\n",
       "      <td>0</td>\n",
       "      <td>0</td>\n",
       "      <td>1</td>\n",
       "      <td>0</td>\n",
       "      <td>0</td>\n",
       "      <td>0</td>\n",
       "      <td>...</td>\n",
       "      <td>0</td>\n",
       "      <td>0</td>\n",
       "      <td>0</td>\n",
       "      <td>1</td>\n",
       "      <td>0</td>\n",
       "      <td>0</td>\n",
       "      <td>1</td>\n",
       "      <td>1</td>\n",
       "      <td>0</td>\n",
       "      <td>T2-N1-M0</td>\n",
       "    </tr>\n",
       "  </tbody>\n",
       "</table>\n",
       "<p>5 rows × 40 columns</p>\n",
       "</div>"
      ],
      "text/plain": [
       "   PtAgeBtw:40-49  PtAgeBtw:50-59  PtAgeBtw:60-69  PtAgeBtw:30-39  \\\n",
       "0               1               0               0               0   \n",
       "1               0               1               0               0   \n",
       "2               0               1               0               0   \n",
       "3               1               0               0               0   \n",
       "4               1               0               0               0   \n",
       "\n",
       "   PtAgeBtw:70-79  PtAgeBtw:20-29  Premenopausal  Postmenopausal  TS15to19  \\\n",
       "0               0               0              1               0         1   \n",
       "1               0               0              0               1         1   \n",
       "2               0               0              0               1         0   \n",
       "3               0               0              1               0         0   \n",
       "4               0               0              1               0         0   \n",
       "\n",
       "   TS35to39  ...  Breast-@-Left_Up  Breast-@-Central  Breast-@-Left_Down  \\\n",
       "0         0  ...                 1                 0                   0   \n",
       "1         0  ...                 0                 1                   0   \n",
       "2         1  ...                 0                 0                   1   \n",
       "3         1  ...                 0                 0                   1   \n",
       "4         0  ...                 0                 0                   0   \n",
       "\n",
       "   Breast-@-Right_Up  Breast-@-Right_Down  Radiation_Surgery:Yes  \\\n",
       "0                  0                    0                      0   \n",
       "1                  0                    0                      0   \n",
       "2                  0                    0                      0   \n",
       "3                  0                    0                      1   \n",
       "4                  1                    0                      0   \n",
       "\n",
       "   Radiation_Surgery:No  After_Treatment:Reappearing  After_Treatment:Healthy  \\\n",
       "0                     1                            1                        0   \n",
       "1                     1                            0                        1   \n",
       "2                     1                            1                        0   \n",
       "3                     0                            0                        1   \n",
       "4                     1                            1                        0   \n",
       "\n",
       "         TNM  \n",
       "0  T1c-N0-M0  \n",
       "1  T1c-N0-M0  \n",
       "2   T2-N0-M0  \n",
       "3   T2-N0-M1  \n",
       "4   T2-N1-M0  \n",
       "\n",
       "[5 rows x 40 columns]"
      ]
     },
     "execution_count": 66,
     "metadata": {},
     "output_type": "execute_result"
    }
   ],
   "source": [
    "dft.head()"
   ]
  },
  {
   "cell_type": "code",
   "execution_count": 67,
   "metadata": {},
   "outputs": [
    {
     "data": {
      "text/plain": [
       "array(['Grade-3', 'Grade-1', 'Grade-2'], dtype=object)"
      ]
     },
     "execution_count": 67,
     "metadata": {},
     "output_type": "execute_result"
    }
   ],
   "source": [
    "df['deg-malig'].unique()"
   ]
  },
  {
   "cell_type": "code",
   "execution_count": 68,
   "metadata": {
    "scrolled": true
   },
   "outputs": [
    {
     "data": {
      "text/plain": [
       "array(['T1c-N0-M0', 'T2-N0-M0', 'T2-N0-M1', 'T2-N1-M0', 'T2-N1-M1',\n",
       "       'T1b-N0-M0', 'T1a-N0-M0', 'T2-N3-M1', 'T1-N0-M0', 'T1b-N1-M0',\n",
       "       'T1c-N2-M1', 'T1-N1-M0', 'T1c-N3-M0', 'T2-N2-M0', 'T2-N2-M1',\n",
       "       'T1b-N0-M1', 'T3-N0-M1', 'T2-N3-M0', 'T3-N0-M0', 'T3-N2-M0',\n",
       "       'T1c-N0-M1', 'T1-N1-M1', 'T1-N3-M1', 'T1b-N2-M1', 'T1a-N0-M1',\n",
       "       'T1c-N3-M1', 'T1-N0-M1', 'T1-N2-M1'], dtype=object)"
      ]
     },
     "execution_count": 68,
     "metadata": {},
     "output_type": "execute_result"
    }
   ],
   "source": [
    "dft['TNM'].unique()"
   ]
  },
  {
   "cell_type": "code",
   "execution_count": 69,
   "metadata": {},
   "outputs": [],
   "source": [
    "PtGr= ['Grade-3','Grade-1','Grade-2']"
   ]
  },
  {
   "cell_type": "code",
   "execution_count": 70,
   "metadata": {},
   "outputs": [],
   "source": [
    "PtTNM = ['T1c-N0-M0', 'T2-N0-M0', 'T2-N0-M1', 'T2-N1-M0', 'T2-N1-M1','T1b-N0-M0', 'T1a-N0-M0', 'T2-N3-M1', 'T1-N0-M0', 'T1b-N1-M0','T1c-N2-M1', 'T1-N1-M0', 'T1c-N3-M0', 'T2-N2-M0', 'T2-N2-M1','T1b-N0-M1', 'T3-N0-M1', 'T2-N3-M0', 'T3-N0-M0', 'T3-N2-M0','T1c-N0-M1', 'T1-N1-M1', 'T1-N3-M1', 'T1b-N2-M1', 'T1a-N0-M1','T1c-N3-M1', 'T1-N0-M1', 'T1-N2-M1']"
   ]
  },
  {
   "cell_type": "code",
   "execution_count": 71,
   "metadata": {},
   "outputs": [],
   "source": [
    "l11=[]\n",
    "for x in range(0,len(l10)):\n",
    "    l11.append(0)\n"
   ]
  },
  {
   "cell_type": "code",
   "execution_count": 72,
   "metadata": {},
   "outputs": [],
   "source": [
    "l13=[]\n",
    "for x in range(0,len(l12)):\n",
    "    l13.append(0)"
   ]
  },
  {
   "cell_type": "code",
   "execution_count": 73,
   "metadata": {},
   "outputs": [],
   "source": [
    "df.replace({'deg-malig':{'Grade-3':2,'Grade-1':0,'Grade-2':1}},inplace=True)"
   ]
  },
  {
   "cell_type": "code",
   "execution_count": 74,
   "metadata": {},
   "outputs": [],
   "source": [
    "dft.replace({'TNM':{'T1c-N0-M0':0, 'T2-N0-M0':1, 'T2-N0-M1':2, 'T2-N1-M0':3, 'T2-N1-M1':4,\n",
    "       'T1b-N0-M0':5, 'T1a-N0-M0':6, 'T2-N3-M1':7, 'T1-N0-M0':8, 'T1b-N1-M0':9,\n",
    "       'T1c-N2-M1':10, 'T1-N1-M0':11, 'T1c-N3-M0':12, 'T2-N2-M0':13, 'T2-N2-M1':14,\n",
    "       'T1b-N0-M1':15, 'T3-N0-M1':16, 'T2-N3-M0':17, 'T3-N0-M0':18, 'T3-N2-M0':19,\n",
    "       'T1c-N0-M1':20, 'T1-N1-M1':21, 'T1-N3-M1':22, 'T1b-N2-M1':23, 'T1a-N0-M1':24,\n",
    "       'T1c-N3-M1':25, 'T1-N0-M1':26, 'T1-N2-M1':27}},inplace=True)"
   ]
  },
  {
   "cell_type": "code",
   "execution_count": 75,
   "metadata": {},
   "outputs": [
    {
     "data": {
      "text/plain": [
       "array([2, 0, 1, 2, 1, 1, 2, 1, 1, 1, 1, 1, 0, 1, 1, 2, 0, 1, 1, 2, 1, 1,\n",
       "       0, 2, 1, 1, 0, 2, 2, 2, 2, 2, 0, 0, 1, 2, 2, 0, 2, 1, 1, 2, 0, 2,\n",
       "       1, 2, 1, 2, 2, 2, 0, 2, 0, 2, 0, 1, 2, 1, 2, 2, 1, 0, 1, 1, 1, 0,\n",
       "       2, 0, 2, 2, 0, 0, 1, 2, 1, 1, 1, 0, 1, 1, 2, 0, 1, 0, 0, 0, 2, 1,\n",
       "       1, 1, 0, 0, 2, 0, 1, 1, 2, 1, 0, 1, 1, 1, 0, 1, 0, 1, 1, 2, 0, 0,\n",
       "       2, 0, 1, 0, 2, 1, 1, 2, 1, 0, 1, 1, 1, 1, 1, 1, 2, 1, 2, 0, 0, 0,\n",
       "       2, 0, 2, 1, 1, 1, 1, 2, 1, 0, 1, 1, 1, 1, 2, 1, 0, 1, 1, 0, 2, 2,\n",
       "       1, 1, 2, 2, 1, 1, 1, 1, 1, 1, 2, 1, 0, 2, 1, 1, 2, 1, 0, 1, 2, 0,\n",
       "       2, 0, 0, 2, 2, 1, 1, 1, 1, 2, 1, 1, 1, 0, 0, 2, 2, 1, 2, 2, 0, 0,\n",
       "       2, 1, 2, 2, 0, 2, 0, 1, 0, 1, 0, 2, 1, 0, 1, 0, 2, 1, 1, 2, 0, 2,\n",
       "       1, 1, 1, 1, 1, 1, 0, 1, 1, 2, 2, 1, 2, 1, 1, 1, 0, 1, 1, 0, 0, 0,\n",
       "       2, 1, 0, 0, 2, 2, 1, 2, 1, 1, 2, 0, 1, 1, 1, 2, 2, 0, 0, 2, 2, 1,\n",
       "       1, 2, 1, 1, 1, 1, 1, 2, 1, 1, 1, 1, 2], dtype=int64)"
      ]
     },
     "execution_count": 75,
     "metadata": {},
     "output_type": "execute_result"
    }
   ],
   "source": [
    "X= df[l10]\n",
    "y = df[['deg-malig']]\n",
    "np.ravel(y)"
   ]
  },
  {
   "cell_type": "code",
   "execution_count": 76,
   "metadata": {},
   "outputs": [
    {
     "data": {
      "text/plain": [
       "array([ 0,  0,  1,  2,  3,  4,  1,  5,  6,  7,  1,  0,  1,  1,  2,  8,  9,\n",
       "        0,  1,  8,  4,  0,  5, 10, 11,  5,  5,  3, 12,  1,  1,  8,  2,  0,\n",
       "        5, 13,  8,  5,  1, 14,  1, 11,  0,  1, 15,  2, 16,  1,  1,  6,  1,\n",
       "       17,  8, 17, 18,  6, 14,  2,  8, 17,  8,  0,  1,  0, 19,  5,  4,  5,\n",
       "       13, 14,  5,  0,  1,  1, 13,  0,  1,  1, 20,  6,  1,  1, 14,  8,  1,\n",
       "        8,  4,  5,  8,  2,  1,  5,  2,  1, 21,  0,  1,  8,  8,  4, 21,  1,\n",
       "        1,  8,  0,  2,  1,  4,  6,  5, 13,  5, 14,  8,  1,  1,  0, 13,  5,\n",
       "        1,  1,  1,  0,  0,  1,  1,  1,  1,  1,  0,  6,  6, 18,  1, 22,  1,\n",
       "        3, 11, 20,  5, 14,  5,  1, 16,  0,  3,  4,  5,  5,  1, 11,  5,  1,\n",
       "        3, 13, 18,  1, 21, 14,  3,  8,  8, 18,  8,  3,  1,  1,  4,  8, 11,\n",
       "       13,  1,  8,  1, 23,  1,  3, 24,  0,  1,  1,  6,  1,  1, 15, 13, 16,\n",
       "        1, 11,  1,  1, 25,  8,  6,  1,  1,  1,  1,  3,  1,  2,  3,  2,  7,\n",
       "        1,  8,  1,  8,  1,  1,  1,  2,  8,  1,  8, 11,  1, 26,  1,  1,  2,\n",
       "        1,  8,  8,  5,  0,  1,  8,  1,  0,  7,  2, 14,  5,  2,  1,  1,  0,\n",
       "        5,  8,  5,  1, 14,  5,  1,  6,  2,  2,  1,  2,  3,  8,  8,  1,  1,\n",
       "       21,  6, 26,  1,  1,  8, 14, 17, 21, 27,  1,  1,  2,  1,  4,  8, 20,\n",
       "       13,  4, 13,  0,  1], dtype=int64)"
      ]
     },
     "execution_count": 76,
     "metadata": {},
     "output_type": "execute_result"
    }
   ],
   "source": [
    "GO= dft[l12]\n",
    "tnm = dft[['TNM']]\n",
    "np.ravel(tnm)"
   ]
  },
  {
   "cell_type": "code",
   "execution_count": 77,
   "metadata": {
    "scrolled": false
   },
   "outputs": [
    {
     "data": {
      "text/plain": [
       "array([2, 0, 1, 2, 1, 1, 2, 1, 1, 1, 1, 1, 0, 1, 1, 2, 0, 1, 1, 2, 1, 1,\n",
       "       0, 2, 1, 1, 0, 2, 2, 2, 2, 2, 0, 0, 1, 2, 2, 0, 2, 1, 1, 2, 0, 2,\n",
       "       1, 2, 1, 2, 2, 2, 0, 2, 0, 2, 0, 1, 2, 1, 2, 2, 1, 0, 1, 1, 1, 0,\n",
       "       2, 0, 2, 2, 0, 0, 1, 2, 1, 1, 1, 0, 1, 1, 2, 0, 1, 0, 0, 0, 2, 1,\n",
       "       1, 1, 0, 0, 2, 0, 1, 1, 2, 1, 0, 1, 1, 1, 0, 1, 0, 1, 1, 2, 0, 0,\n",
       "       2, 0, 1, 0, 2, 1, 1, 2, 1, 0, 1, 1, 1, 1, 1, 1, 2, 1, 2, 0, 0, 0,\n",
       "       2, 0, 2, 1, 1, 1, 1, 2, 1, 0, 1, 1, 1, 1, 2, 1, 0, 1, 1, 0, 2, 2,\n",
       "       1, 1, 2, 2, 1, 1, 1, 1, 1, 1, 2, 1, 0, 2, 1, 1, 2, 1, 0, 1, 2, 0,\n",
       "       2, 0, 0, 2, 2, 1, 1, 1, 1, 2, 1, 1, 1, 0, 0, 2, 2, 1, 2, 2, 0, 0,\n",
       "       2, 1, 2, 2, 0, 2, 0, 1, 0, 1, 0, 2, 1, 0, 1, 0, 2, 1, 1, 2, 0, 2,\n",
       "       1, 1, 1, 1, 1, 1, 0, 1, 1, 2, 2, 1, 2, 1, 1, 1, 0, 1, 1, 0, 0, 0,\n",
       "       2, 1, 0, 0, 2, 2, 1, 2, 1, 1, 2, 0, 1, 1, 1, 2, 2, 0, 0, 2, 2, 1,\n",
       "       1, 2, 1, 1, 1, 1, 1, 2, 1, 1, 1, 1, 2], dtype=int64)"
      ]
     },
     "execution_count": 77,
     "metadata": {},
     "output_type": "execute_result"
    }
   ],
   "source": [
    "X_test= df[l10]\n",
    "y_test = df[['deg-malig']]\n",
    "np.ravel(y_test)"
   ]
  },
  {
   "cell_type": "code",
   "execution_count": 78,
   "metadata": {},
   "outputs": [
    {
     "data": {
      "text/plain": [
       "array([ 0,  0,  1,  2,  3,  4,  1,  5,  6,  7,  1,  0,  1,  1,  2,  8,  9,\n",
       "        0,  1,  8,  4,  0,  5, 10, 11,  5,  5,  3, 12,  1,  1,  8,  2,  0,\n",
       "        5, 13,  8,  5,  1, 14,  1, 11,  0,  1, 15,  2, 16,  1,  1,  6,  1,\n",
       "       17,  8, 17, 18,  6, 14,  2,  8, 17,  8,  0,  1,  0, 19,  5,  4,  5,\n",
       "       13, 14,  5,  0,  1,  1, 13,  0,  1,  1, 20,  6,  1,  1, 14,  8,  1,\n",
       "        8,  4,  5,  8,  2,  1,  5,  2,  1, 21,  0,  1,  8,  8,  4, 21,  1,\n",
       "        1,  8,  0,  2,  1,  4,  6,  5, 13,  5, 14,  8,  1,  1,  0, 13,  5,\n",
       "        1,  1,  1,  0,  0,  1,  1,  1,  1,  1,  0,  6,  6, 18,  1, 22,  1,\n",
       "        3, 11, 20,  5, 14,  5,  1, 16,  0,  3,  4,  5,  5,  1, 11,  5,  1,\n",
       "        3, 13, 18,  1, 21, 14,  3,  8,  8, 18,  8,  3,  1,  1,  4,  8, 11,\n",
       "       13,  1,  8,  1, 23,  1,  3, 24,  0,  1,  1,  6,  1,  1, 15, 13, 16,\n",
       "        1, 11,  1,  1, 25,  8,  6,  1,  1,  1,  1,  3,  1,  2,  3,  2,  7,\n",
       "        1,  8,  1,  8,  1,  1,  1,  2,  8,  1,  8, 11,  1, 26,  1,  1,  2,\n",
       "        1,  8,  8,  5,  0,  1,  8,  1,  0,  7,  2, 14,  5,  2,  1,  1,  0,\n",
       "        5,  8,  5,  1, 14,  5,  1,  6,  2,  2,  1,  2,  3,  8,  8,  1,  1,\n",
       "       21,  6, 26,  1,  1,  8, 14, 17, 21, 27,  1,  1,  2,  1,  4,  8, 20,\n",
       "       13,  4, 13,  0,  1], dtype=int64)"
      ]
     },
     "execution_count": 78,
     "metadata": {},
     "output_type": "execute_result"
    }
   ],
   "source": [
    "GO_test= dft[l12]\n",
    "tnm_test=dft[['TNM']]\n",
    "np.ravel(tnm_test)"
   ]
  },
  {
   "cell_type": "code",
   "execution_count": 79,
   "metadata": {},
   "outputs": [],
   "source": [
    "def EVCGr():\n",
    "\n",
    "    from sklearn.ensemble import VotingClassifier\n",
    "    from sklearn.linear_model import LogisticRegression\n",
    "    from sklearn.tree import DecisionTreeClassifier\n",
    "    from sklearn.ensemble import RandomForestClassifier\n",
    "    from sklearn.naive_bayes import GaussianNB\n",
    "    \n",
    "    # create the sub models\n",
    "    estimators = []\n",
    "    model1 = GaussianNB()\n",
    "    estimators.append(('GaussianNB', model1))\n",
    "    model2 = DecisionTreeClassifier()\n",
    "    estimators.append(('DecisionTreeClassifier', model2))\n",
    "    model3 = RandomForestClassifier()\n",
    "    estimators.append(('RandomForestClassifier', model3))\n",
    "    model4 = LogisticRegression()\n",
    "    estimators.append(('LogisticRegression', model4))\n",
    "    # create the ensemble model\n",
    "    ensemble = VotingClassifier(estimators)\n",
    "\n",
    "   # empty model of the decision tree\n",
    "    ensemble = ensemble.fit(X,y)\n",
    "\n",
    "    # calculating accuracy-------------------------------------------------------------------\n",
    "    from sklearn.metrics import accuracy_score\n",
    "    y_pred=ensemble.predict(X_test)\n",
    "    print(accuracy_score(y_test, y_pred))\n",
    "    print(accuracy_score(y_test, y_pred,normalize=False))\n",
    "    # -----------------------------------------------------\n",
    "\n",
    "    terms = [Age.get(),Ms.get(),In.get(),Nc.get(),Brpo.get(),Brpoqu.get(),Tr.get()]\n",
    "\n",
    "    for k in range(0,len(l10)):\n",
    "        # print (k,)\n",
    "        for z in terms:\n",
    "            if(z==l10[k]):\n",
    "                l11[k]=1\n",
    "\n",
    "    inputtest = [l11]\n",
    "    predict = ensemble.predict(inputtest)\n",
    "    predicted=predict[0]\n",
    "\n",
    "    h='no'\n",
    "    for a in range(0,len(PtGr)):\n",
    "        if(predicted == a):\n",
    "            h='yes'\n",
    "            break\n",
    "\n",
    "\n",
    "    if (h=='yes'):\n",
    "        t3.delete(\"1.0\", END)\n",
    "        t3.insert(END, PtGr[a])\n",
    "    else:\n",
    "        t3.delete(\"1.0\", END)\n",
    "        t3.insert(END, \"Not Found\")\n"
   ]
  },
  {
   "cell_type": "code",
   "execution_count": 80,
   "metadata": {},
   "outputs": [],
   "source": [
    "def EVCTNM():\n",
    "\n",
    "    from sklearn.ensemble import VotingClassifier\n",
    "    from sklearn.linear_model import LogisticRegression\n",
    "    from sklearn.tree import DecisionTreeClassifier\n",
    "    from sklearn.ensemble import RandomForestClassifier\n",
    "    from sklearn.naive_bayes import GaussianNB\n",
    "    \n",
    "    # create the sub models\n",
    "    estimators = []\n",
    "    model1 = GaussianNB()\n",
    "    estimators.append(('GaussianNB', model1))\n",
    "    model2 = DecisionTreeClassifier()\n",
    "    estimators.append(('DecisionTreeClassifier', model2))\n",
    "    model3 = RandomForestClassifier()\n",
    "    estimators.append(('RandomForestClassifier', model3))\n",
    "    model4 = LogisticRegression()\n",
    "    estimators.append(('LogisticRegression', model4))\n",
    "    # create the ensemble model\n",
    "    ensemble = VotingClassifier(estimators)\n",
    "\n",
    "   # empty model of the decision tree\n",
    "    ensemble = ensemble.fit(X,y)\n",
    "\n",
    "    # calculating accuracy-------------------------------------------------------------------\n",
    "    from sklearn.metrics import accuracy_score\n",
    "    y_pred=ensemble.predict(X_test)\n",
    "    print(accuracy_score(y_test, y_pred))\n",
    "    print(accuracy_score(y_test, y_pred,normalize=False))\n",
    "    # -----------------------------------------------------\n",
    "\n",
    "    terms = [Age.get(),Ms.get(),In.get(),Nc.get(),Brpo.get(),Brpoqu.get(),Tr.get()]\n",
    "\n",
    "    for k in range(0,len(l12)):\n",
    "        # print (k,)\n",
    "        for z in terms:\n",
    "            if(z==l12[k]):\n",
    "                l13[k]=1\n",
    "\n",
    "    inputtest = [l13]\n",
    "    predict = ensemble.predict(inputtest)\n",
    "    predicted=predict[0]\n",
    "\n",
    "    o='no'\n",
    "    for p in range(0,len(PtTNM)):\n",
    "        if(predicted == p):\n",
    "            o='yes'\n",
    "            break\n",
    "\n",
    "    if (o=='yes'):\n",
    "        t4.delete(\"1.0\", END)\n",
    "        t4.insert(END, PtTNM[p])\n",
    "    else:\n",
    "        t4.delete(\"1.0\", END)\n",
    "        t4.insert(END, \"Not Found\")\n"
   ]
  },
  {
   "cell_type": "code",
   "execution_count": 81,
   "metadata": {},
   "outputs": [
    {
     "data": {
      "text/plain": [
       "''"
      ]
     },
     "execution_count": 81,
     "metadata": {},
     "output_type": "execute_result"
    }
   ],
   "source": [
    "root = Tk()\n",
    "root.title(\"Breast Cancer Prediction\")\n",
    "#root.configure(background='black')\n"
   ]
  },
  {
   "cell_type": "code",
   "execution_count": 82,
   "metadata": {},
   "outputs": [
    {
     "data": {
      "text/plain": [
       "1"
      ]
     },
     "execution_count": 82,
     "metadata": {},
     "output_type": "execute_result"
    }
   ],
   "source": [
    "canvas = Canvas(root,width=1800,height=1800)\n",
    "canvas.pack()\n",
    "photo = PhotoImage(file ='im3.png')\n",
    "canvas.create_image(0,0,image=photo,anchor=NW)\n"
   ]
  },
  {
   "cell_type": "code",
   "execution_count": 83,
   "metadata": {},
   "outputs": [],
   "source": [
    "# gui_stuff------------------------------------------------------------------------------------\n",
    "\n",
    "\n",
    "# entry variables\n",
    "Age= StringVar()\n",
    "Age.set(None)\n",
    "Ms= StringVar()\n",
    "Ms.set(None)\n",
    "\n",
    "In= StringVar()\n",
    "In.set(None)\n",
    "Nc= StringVar()\n",
    "Nc.set(None)\n",
    "Brpo= StringVar()\n",
    "Brpo.set(None)\n",
    "Brpoqu= StringVar()\n",
    "Brpoqu.set(None)\n",
    "\n",
    "Tr= StringVar()\n",
    "Tr.set(None)\n",
    "\n",
    "Name= StringVar()\n"
   ]
  },
  {
   "cell_type": "code",
   "execution_count": 84,
   "metadata": {},
   "outputs": [],
   "source": [
    "\n",
    "# Heading\n",
    "w2 = Label(canvas, justify=CENTER, text=\"Prediction of Breast cancer stages using ensemble method \", fg=\"red\")\n",
    "w2.config(font=(\"Elephant\", 20))\n",
    "w2.grid(row=1, column=0, columnspan=2, padx=100)\n",
    "w2 = Label(canvas, justify=CENTER, text=\"Predict the patient grade and TNM levels\", fg=\"blue\")\n",
    "w2.config(font=(\"Aharoni\", 15))\n",
    "w2.grid(row=2, column=0, columnspan=2, padx=100)"
   ]
  },
  {
   "cell_type": "code",
   "execution_count": 85,
   "metadata": {},
   "outputs": [],
   "source": [
    "# labels\n",
    "NameLb = Label(canvas, text=\"Patient Name\",fg=\"yellow\", bg=\"black\")\n",
    "NameLb.grid(row=5, column=0, pady=15, sticky=W)"
   ]
  },
  {
   "cell_type": "code",
   "execution_count": 86,
   "metadata": {},
   "outputs": [],
   "source": [
    "AgeLb = Label(canvas, text=\"Patient Age Details\",fg=\"white\", bg=\"blue\")\n",
    "AgeLb.grid(row=8, column=0, pady=10, sticky=W)\n",
    "\n",
    "MsLb = Label(canvas, text=\"Menopause Status of patient\",fg=\"white\", bg=\"blue\")\n",
    "MsLb.grid(row=9, column=0, pady=10, sticky=W)\n",
    "\n",
    "\n",
    "\n",
    "InLb = Label(canvas, text=\"Involved Lymph Node Details\",fg=\"white\", bg=\"blue\")\n",
    "InLb.grid(row=11, column=0, pady=10, sticky=W)\n",
    "\n",
    "NcLb = Label(canvas, text=\"Node Capsule Details\",fg=\"white\", bg=\"blue\")\n",
    "NcLb.grid(row=12, column=0, pady=10, sticky=W)\n",
    "\n",
    "BrpoLb = Label(canvas, text=\"Position of Breast Cancer\",fg=\"white\", bg=\"blue\")\n",
    "BrpoLb.grid(row=13, column=0, pady=10, sticky=W)\n",
    "\n",
    "BrpoquLb = Label(canvas, text=\"Position of Breast Cancer - Quadrant\",fg=\"white\", bg=\"blue\")\n",
    "BrpoquLb.grid(row=14, column=0, pady=10, sticky=W)\n",
    "\n",
    "\n",
    "\n",
    "TrLb = Label(canvas, text=\"After Treatment - Tumor Details\",fg=\"white\", bg=\"blue\")\n",
    "TrLb.grid(row=16, column=0, pady=10, sticky=W)\n",
    "\n"
   ]
  },
  {
   "cell_type": "code",
   "execution_count": 87,
   "metadata": {},
   "outputs": [],
   "source": [
    "vcgrLb = Label(canvas, text=\"Voting Classifier-Gr:\", fg=\"white\", bg=\"red\")\n",
    "vcgrLb.grid(row=20, column=0, pady=10,sticky=W)\n",
    "\n",
    "vctnmLb = Label(canvas, text=\"Voting Classifier-TNM:\", fg=\"white\", bg=\"red\")\n",
    "vctnmLb.grid(row=21, column=0, pady=10,sticky=W)"
   ]
  },
  {
   "cell_type": "code",
   "execution_count": 88,
   "metadata": {},
   "outputs": [],
   "source": [
    "# entries\n",
    "OPTIONS1 = sorted(l1)\n",
    "OPTIONS2 = sorted(l2)\n",
    "\n",
    "OPTIONS4 = sorted(l4)\n",
    "OPTIONS5 = sorted(l5)\n",
    "OPTIONS6 = sorted(l6)\n",
    "OPTIONS7 = sorted(l7)\n",
    "\n",
    "OPTIONS9 = sorted(l9)\n"
   ]
  },
  {
   "cell_type": "code",
   "execution_count": 89,
   "metadata": {},
   "outputs": [],
   "source": [
    "NameEn = Entry(canvas, textvariable=Name)\n",
    "NameEn.grid(row=5, column=1)"
   ]
  },
  {
   "cell_type": "code",
   "execution_count": 90,
   "metadata": {},
   "outputs": [],
   "source": [
    "\n",
    "AgeEn = OptionMenu(canvas, Age,*OPTIONS1)\n",
    "AgeEn.grid(row=8, column=1)\n",
    "\n",
    "MsEn = OptionMenu(canvas, Ms,*OPTIONS2)\n",
    "MsEn.grid(row=9, column=1)\n",
    "\n",
    "\n",
    "\n",
    "InEn = OptionMenu(canvas, In,*OPTIONS4)\n",
    "InEn.grid(row=11, column=1)\n",
    "\n",
    "NcEn = OptionMenu(canvas, Nc,*OPTIONS5)\n",
    "NcEn.grid(row=12, column=1)\n",
    "\n",
    "BrpoEn = OptionMenu(canvas, Brpo,*OPTIONS6)\n",
    "BrpoEn.grid(row=13, column=1)\n",
    "\n",
    "BrpoquEn = OptionMenu(canvas, Brpoqu,*OPTIONS7)\n",
    "BrpoquEn.grid(row=14, column=1)\n",
    "\n",
    "\n",
    "TrEn = OptionMenu(canvas, Tr,*OPTIONS9)\n",
    "TrEn.grid(row=16, column=1)\n",
    "\n"
   ]
  },
  {
   "cell_type": "code",
   "execution_count": 91,
   "metadata": {},
   "outputs": [],
   "source": [
    "def clear_display_result():\n",
    "    t3.delete('1.0',END)\n",
    "    t4.delete('1.0',END)\n",
    "   "
   ]
  },
  {
   "cell_type": "code",
   "execution_count": 92,
   "metadata": {},
   "outputs": [],
   "source": [
    "button3=Button(canvas,text=\"Reset\", command=clear_display_result,width=12,bg=\"red\",fg=\"white\")\n",
    "button3.grid(row=5,column=3,padx=10,pady=10)"
   ]
  },
  {
   "cell_type": "code",
   "execution_count": 93,
   "metadata": {},
   "outputs": [],
   "source": [
    "vcgr = Button(canvas, text=\"Check Grade\", command=EVCGr,bg=\"cyan\",fg=\"red\")\n",
    "vcgr.grid(row=20, column=3,padx=10)"
   ]
  },
  {
   "cell_type": "code",
   "execution_count": 94,
   "metadata": {},
   "outputs": [],
   "source": [
    "\n",
    "\n",
    "vctnm = Button(canvas, text=\"Check Stage\", command=EVCTNM,bg=\"cyan\",fg=\"red\")\n",
    "vctnm.grid(row=21, column=3,padx=10)"
   ]
  },
  {
   "cell_type": "code",
   "execution_count": 95,
   "metadata": {},
   "outputs": [],
   "source": [
    "t3 = Text(canvas, height=1, width=40,bg=\"orange\",fg=\"black\")\n",
    "t3.grid(row=20, column=1 , padx=10)"
   ]
  },
  {
   "cell_type": "code",
   "execution_count": 96,
   "metadata": {},
   "outputs": [],
   "source": [
    "t4 = Text(canvas, height=1, width=40,bg=\"orange\",fg=\"black\")\n",
    "t4.grid(row=21, column=1 , padx=10)\n"
   ]
  },
  {
   "cell_type": "code",
   "execution_count": null,
   "metadata": {
    "scrolled": true
   },
   "outputs": [],
   "source": [
    "root.mainloop()"
   ]
  }
 ],
 "metadata": {
  "kernelspec": {
   "display_name": "Python 3",
   "language": "python",
   "name": "python3"
  },
  "language_info": {
   "codemirror_mode": {
    "name": "ipython",
    "version": 3
   },
   "file_extension": ".py",
   "mimetype": "text/x-python",
   "name": "python",
   "nbconvert_exporter": "python",
   "pygments_lexer": "ipython3",
   "version": "3.7.4"
  }
 },
 "nbformat": 4,
 "nbformat_minor": 2
}
