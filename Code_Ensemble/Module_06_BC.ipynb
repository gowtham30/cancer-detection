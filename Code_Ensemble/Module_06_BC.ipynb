{
 "cells": [
  {
   "cell_type": "markdown",
   "metadata": {},
   "source": [
    "# Module 6 : Performance measurements of Ensemble learning method"
   ]
  },
  {
   "cell_type": "code",
   "execution_count": 31,
   "metadata": {},
   "outputs": [],
   "source": [
    "#import libraries for access and functional purpose\n",
    "import pandas as p\n",
    "import numpy as n\n",
    "import matplotlib.pyplot as plt\n",
    "import seaborn as s"
   ]
  },
  {
   "cell_type": "code",
   "execution_count": 32,
   "metadata": {},
   "outputs": [],
   "source": [
    "import warnings\n",
    "warnings.filterwarnings('ignore')"
   ]
  },
  {
   "cell_type": "code",
   "execution_count": 33,
   "metadata": {},
   "outputs": [],
   "source": [
    "#read the given dataset\n",
    "df = p.read_csv(\"data.csv\")"
   ]
  },
  {
   "cell_type": "code",
   "execution_count": 34,
   "metadata": {},
   "outputs": [],
   "source": [
    "df=df.dropna()"
   ]
  },
  {
   "cell_type": "code",
   "execution_count": 35,
   "metadata": {},
   "outputs": [],
   "source": [
    "df['PtAgeBtw:40-49'] = df.age.map({'40-49':1, '50-59':0, '60-69':0, '30-39':0, '70-79':0, '20-29':0})\n",
    "df['PtAgeBtw:50-59'] = df.age.map({'40-49':0, '50-59':1, '60-69':0, '30-39':0, '70-79':0, '20-29':0})\n",
    "df['PtAgeBtw:60-69'] = df.age.map({'40-49':0, '50-59':0, '60-69':1, '30-39':0, '70-79':0, '20-29':0})\n",
    "df['PtAgeBtw:30-39'] = df.age.map({'40-49':0, '50-59':0, '60-69':0, '30-39':1, '70-79':0, '20-29':0})\n",
    "df['PtAgeBtw:70-79'] = df.age.map({'40-49':0, '50-59':0, '60-69':0, '30-39':0, '70-79':1, '20-29':0})\n",
    "df['PtAgeBtw:20-29'] = df.age.map({'40-49':0, '50-59':0, '60-69':0, '30-39':0, '70-79':0, '20-29':1})"
   ]
  },
  {
   "cell_type": "code",
   "execution_count": 36,
   "metadata": {},
   "outputs": [],
   "source": [
    "df['Premenopausal'] = df.menopause.map({'premeno':1, 'ge40':0, 'lt40':0})\n",
    "df['Postmenopausal'] = df.menopause.map({'premeno':0, 'ge40':1, 'lt40':1})"
   ]
  },
  {
   "cell_type": "code",
   "execution_count": 37,
   "metadata": {},
   "outputs": [],
   "source": [
    "df['TS15to19'] = df['tumor-size'].map({'15-19':1, '35-39':0, '30-34':0, '25-29':0, '40-44':0, 'Oct-14':0, '0-4':0,\n",
    "       '20-24':0, '45-49':0, '50-54':0, '05-Sep':0})\n",
    "\n",
    "df['TS35to39'] = df['tumor-size'].map({'15-19':0, '35-39':1, '30-34':0, '25-29':0, '40-44':0, 'Oct-14':0, '0-4':0,\n",
    "       '20-24':0, '45-49':0, '50-54':0, '05-Sep':0})\n",
    "\n",
    "df['TS30to34'] = df['tumor-size'].map({'15-19':0, '35-39':0, '30-34':1, '25-29':0, '40-44':0, 'Oct-14':0, '0-4':0,\n",
    "       '20-24':0, '45-49':0, '50-54':0, '05-Sep':0})\n",
    "\n",
    "df['TS25to29'] = df['tumor-size'].map({'15-19':0, '35-39':0, '30-34':0, '25-29':1, '40-44':0, 'Oct-14':0, '0-4':0,\n",
    "       '20-24':0, '45-49':0, '50-54':0, '05-Sep':0})\n",
    "\n",
    "df['TS40to44'] = df['tumor-size'].map({'15-19':0, '35-39':0, '30-34':0, '25-29':0, '40-44':1, 'Oct-14':0, '0-4':0,\n",
    "       '20-24':0, '45-49':0, '50-54':0, '05-Sep':0})\n",
    "\n",
    "df['TS10to14'] = df['tumor-size'].map({'15-19':0, '35-39':0, '30-34':0, '25-29':0, '40-44':0, 'Oct-14':1, '0-4':0,\n",
    "       '20-24':0, '45-49':0, '50-54':0, '05-Sep':0})\n",
    "\n",
    "df['TS00to04'] = df['tumor-size'].map({'15-19':0, '35-39':0, '30-34':0, '25-29':0, '40-44':0, 'Oct-14':0, '0-4':1,\n",
    "       '20-24':0, '45-49':0, '50-54':0, '05-Sep':0})\n",
    "\n",
    "df['TS20to24'] = df['tumor-size'].map({'15-19':0, '35-39':0, '30-34':0, '25-29':0, '40-44':0, 'Oct-14':0, '0-4':0,\n",
    "       '20-24':1, '45-49':0, '50-54':0, '05-Sep':0})\n",
    "\n",
    "df['TS45to49'] = df['tumor-size'].map({'15-19':0, '35-39':0, '30-34':0, '25-29':0, '40-44':0, 'Oct-14':0, '0-4':0,\n",
    "       '20-24':0, '45-49':1, '50-54':0, '05-Sep':0})\n",
    "\n",
    "df['TS50to54'] =df['tumor-size'].map({'15-19':0, '35-39':0, '30-34':0, '25-29':0, '40-44':0, 'Oct-14':0, '0-4':0,\n",
    "       '20-24':0, '45-49':0, '50-54':1, '05-Sep':0})\n",
    "\n",
    "df['TS05to09'] = df['tumor-size'].map({'15-19':0, '35-39':0, '30-34':0, '25-29':0, '40-44':0, 'Oct-14':0, '0-4':0,\n",
    "       '20-24':0, '45-49':0, '50-54':0, '05-Sep':1})\n"
   ]
  },
  {
   "cell_type": "code",
   "execution_count": 38,
   "metadata": {},
   "outputs": [],
   "source": [
    "df['IN00-02'] = df['inv-nodes'].map({'0-2':1, '03-May':0, '15-17':0, '06-Aug':0, '09-Nov':0, '24-26':0, 'Dec-14':0})\n",
    "\n",
    "df['IN03-05'] = df['inv-nodes'].map({'0-2':0, '03-May':1, '15-17':0, '06-Aug':0, '09-Nov':0, '24-26':0, 'Dec-14':0})\n",
    "\n",
    "df['IN15-17'] = df['inv-nodes'].map({'0-2':0, '03-May':0, '15-17':1, '06-Aug':0, '09-Nov':0, '24-26':0, 'Dec-14':0})\n",
    "\n",
    "df['IN06-08'] = df['inv-nodes'].map({'0-2':0, '03-May':0, '15-17':0, '06-Aug':1, '09-Nov':0, '24-26':0, 'Dec-14':0})\n",
    "\n",
    "df['IN09-11'] = df['inv-nodes'].map({'0-2':0, '03-May':0, '15-17':0, '06-Aug':0, '09-Nov':1, '24-26':0, 'Dec-14':0})\n",
    "\n",
    "df['IN24-26'] = df['inv-nodes'].map({'0-2':0, '03-May':0, '15-17':0, '06-Aug':0, '09-Nov':0, '24-26':1, 'Dec-14':0})\n",
    "\n",
    "df['IN12-14'] = df['inv-nodes'].map({'0-2':0, '03-May':0, '15-17':0, '06-Aug':0, '09-Nov':0, '24-26':0, 'Dec-14':1})\n"
   ]
  },
  {
   "cell_type": "code",
   "execution_count": 39,
   "metadata": {},
   "outputs": [],
   "source": [
    "df['Nodecapsule-Yes'] = df['node-caps'].map({'yes':1, 'no':0})\n",
    "\n",
    "df['Nodecapsule-No'] = df['node-caps'].map({'yes':0, 'no':1})"
   ]
  },
  {
   "cell_type": "code",
   "execution_count": 40,
   "metadata": {},
   "outputs": [],
   "source": [
    "df['Grade-1'] = df['deg-malig'].map({3:0, 1:1, 2:0})\n",
    "\n",
    "df['Grade-2'] = df['deg-malig'].map({3:0, 1:0, 2:1})\n",
    "\n",
    "df['Grade-3'] = df['deg-malig'].map({3:1, 1:0, 2:0})"
   ]
  },
  {
   "cell_type": "code",
   "execution_count": 41,
   "metadata": {},
   "outputs": [],
   "source": [
    "df['Breast-@-Right'] = df['breast'].map({'right':1, 'left':0})\n",
    "\n",
    "df['Breast-@-Left'] = df['breast'].map({'right':0, 'left':1})"
   ]
  },
  {
   "cell_type": "code",
   "execution_count": 42,
   "metadata": {},
   "outputs": [],
   "source": [
    "df['Breast-@-Left_Up'] = df['breast-quad'].map({'left_up':1, 'central':0, 'left_low':0, 'right_up':0, 'right_low':0})\n",
    "\n",
    "df['Breast-@-Central'] = df['breast-quad'].map({'left_up':0, 'central':1, 'left_low':0, 'right_up':0, 'right_low':0})\n",
    "\n",
    "df['Breast-@-Left_Down'] = df['breast-quad'].map({'left_up':0, 'central':0, 'left_low':1, 'right_up':0, 'right_low':0})\n",
    "\n",
    "df['Breast-@-Right_Up'] = df['breast-quad'].map({'left_up':0, 'central':0, 'left_low':0, 'right_up':1, 'right_low':0})\n",
    "\n",
    "df['Breast-@-Right_Down'] = df['breast-quad'].map({'left_up':0, 'central':0, 'left_low':0, 'right_up':0, 'right_low':1})"
   ]
  },
  {
   "cell_type": "code",
   "execution_count": 43,
   "metadata": {},
   "outputs": [],
   "source": [
    "df['Radiation_Surgery:Yes'] = df['irradiat'].map({'no':0, 'yes':1})\n",
    "\n",
    "df['Radiation_Surgery:No'] = df['irradiat'].map({'no':1, 'yes':0})"
   ]
  },
  {
   "cell_type": "code",
   "execution_count": 44,
   "metadata": {},
   "outputs": [],
   "source": [
    "df['After_Treatment:Reappearing'] = df['Class'].map({'recurrence-events':1, 'no-recurrence-events':0})\n",
    "\n",
    "df['After_Treatment:Healthy'] = df['Class'].map({'recurrence-events':0, 'no-recurrence-events':1})"
   ]
  },
  {
   "cell_type": "code",
   "execution_count": 45,
   "metadata": {},
   "outputs": [],
   "source": [
    "df['TSt'] = df['tumor-size'].map({'15-19':'T1c', '35-39':'T2', '30-34':'T2', '25-29':'T2', '40-44':'T2', 'Oct-14':'T1b', '0-4':'T1a',\n",
    "       '20-24':'T1', '45-49':'T2', '50-54':'T3', '05-Sep':'T1a'})\n"
   ]
  },
  {
   "cell_type": "code",
   "execution_count": 46,
   "metadata": {},
   "outputs": [],
   "source": [
    "df['NSt'] = df['inv-nodes'].map({'0-2':'N0', '03-May':'N1', '15-17':'N3', '06-Aug':'N2', '09-Nov':'N2', '24-26':'N3', 'Dec-14':'N3'})"
   ]
  },
  {
   "cell_type": "code",
   "execution_count": 47,
   "metadata": {},
   "outputs": [],
   "source": [
    "df['MSt'] = df['irradiat'].map({'no':'M0', 'yes':'M1'})"
   ]
  },
  {
   "cell_type": "code",
   "execution_count": 48,
   "metadata": {},
   "outputs": [],
   "source": [
    "df['TN'] = df['TSt'].str.cat(df['NSt'], sep =\"-\") "
   ]
  },
  {
   "cell_type": "code",
   "execution_count": 49,
   "metadata": {},
   "outputs": [],
   "source": [
    "df['TNM']=df['TN'].str.cat(df['MSt'], sep =\"-\") "
   ]
  },
  {
   "cell_type": "code",
   "execution_count": 50,
   "metadata": {},
   "outputs": [],
   "source": [
    "del df['age']\n",
    "del df['menopause']\n",
    "del df['tumor-size']\n",
    "del df['inv-nodes']\n",
    "del df['node-caps']\n",
    "del df['deg-malig']\n",
    "del df['breast']\n",
    "del df['breast-quad']\n",
    "del df['irradiat']\n",
    "#del df['Class']\n",
    "del df['TN']\n",
    "#del df['TSt']\n",
    "#del df['NSt']\n",
    "#del df['MSt']\n",
    "#del df['TNM']"
   ]
  },
  {
   "cell_type": "code",
   "execution_count": 51,
   "metadata": {},
   "outputs": [],
   "source": [
    "from sklearn.preprocessing import LabelEncoder\n",
    "var_mod = ['Class', 'PtAgeBtw:40-49', 'PtAgeBtw:50-59', 'PtAgeBtw:60-69',\n",
    "       'PtAgeBtw:30-39', 'PtAgeBtw:70-79', 'PtAgeBtw:20-29', 'Premenopausal',\n",
    "       'Postmenopausal', 'TS15to19', 'TS35to39', 'TS30to34', 'TS25to29',\n",
    "       'TS40to44', 'TS10to14', 'TS00to04', 'TS20to24', 'TS45to49', 'TS50to54',\n",
    "       'TS05to09', 'IN00-02', 'IN03-05', 'IN15-17', 'IN06-08', 'IN09-11',\n",
    "       'IN24-26', 'IN12-14', 'Nodecapsule-Yes', 'Nodecapsule-No', 'Grade-1',\n",
    "       'Grade-2', 'Grade-3', 'Breast-@-Right', 'Breast-@-Left',\n",
    "       'Breast-@-Left_Up', 'Breast-@-Central', 'Breast-@-Left_Down',\n",
    "       'Breast-@-Right_Up', 'Breast-@-Right_Down', 'Radiation_Surgery:Yes',\n",
    "       'Radiation_Surgery:No', 'After_Treatment:Reappearing',\n",
    "       'After_Treatment:Healthy', 'TSt', 'NSt', 'MSt', 'TNM'\n",
    "       ]\n",
    "le = LabelEncoder()\n",
    "for i in var_mod:\n",
    "    df[i] = le.fit_transform(df[i]).astype(str)\n"
   ]
  },
  {
   "cell_type": "code",
   "execution_count": 52,
   "metadata": {},
   "outputs": [],
   "source": [
    "#According to the cross-validated MCC scores, the random forest is the best-performing model, so now let's evaluate its performance on the test set.\n",
    "from sklearn.metrics import confusion_matrix, classification_report, matthews_corrcoef, cohen_kappa_score, accuracy_score, average_precision_score, roc_auc_score"
   ]
  },
  {
   "cell_type": "code",
   "execution_count": 53,
   "metadata": {},
   "outputs": [],
   "source": [
    "X = df.drop(labels='Class', axis=1)\n",
    "#Response variable\n",
    "y = df.loc[:,'Class']    "
   ]
  },
  {
   "cell_type": "code",
   "execution_count": 54,
   "metadata": {},
   "outputs": [],
   "source": [
    "del df \n",
    "#We'll use a test size of 30%. We also stratify the split on the response variable, which is very important to do because there are so few fraudulent transactions.\n",
    "from sklearn.model_selection import train_test_split\n",
    "X_train, X_test, y_train, y_test = train_test_split(X, y, test_size=0.3, random_state=1, stratify=y)"
   ]
  },
  {
   "cell_type": "code",
   "execution_count": 55,
   "metadata": {},
   "outputs": [],
   "source": [
    "# Prevent view warnings\n",
    "X_train.is_copy = False\n",
    "X_test.is_copy = False"
   ]
  },
  {
   "cell_type": "markdown",
   "metadata": {},
   "source": [
    "Voting-based Ensemble technique:"
   ]
  },
  {
   "cell_type": "code",
   "execution_count": 56,
   "metadata": {},
   "outputs": [],
   "source": [
    "#Voting Ensemble for Classification\n",
    "from sklearn.linear_model import LogisticRegression\n",
    "from sklearn.tree import DecisionTreeClassifier\n",
    "from sklearn.ensemble import RandomForestClassifier\n",
    "from sklearn.naive_bayes import GaussianNB\n",
    "\n",
    "from sklearn.ensemble import VotingClassifier"
   ]
  },
  {
   "cell_type": "code",
   "execution_count": 57,
   "metadata": {},
   "outputs": [],
   "source": [
    "# create the sub models\n",
    "estimators = []\n",
    "model1 = GaussianNB()\n",
    "estimators.append(('GaussianNB', model1))\n",
    "model2 = DecisionTreeClassifier()\n",
    "estimators.append(('DecisionTreeClassifier', model2))\n",
    "model3 = RandomForestClassifier()\n",
    "estimators.append(('RandomForestClassifier', model3))\n",
    "model4 = LogisticRegression()\n",
    "estimators.append(('LogisticRegression', model4))"
   ]
  },
  {
   "cell_type": "code",
   "execution_count": 58,
   "metadata": {},
   "outputs": [],
   "source": [
    "from sklearn.model_selection import cross_val_score\n",
    "from sklearn.model_selection import KFold\n",
    "import sklearn.model_selection as k"
   ]
  },
  {
   "cell_type": "code",
   "execution_count": 59,
   "metadata": {},
   "outputs": [],
   "source": [
    "kfold = k.KFold(n_splits=10, random_state=1)"
   ]
  },
  {
   "cell_type": "code",
   "execution_count": 60,
   "metadata": {
    "scrolled": true
   },
   "outputs": [
    {
     "name": "stdout",
     "output_type": "stream",
     "text": [
      "1.0\n"
     ]
    }
   ],
   "source": [
    "# create the ensemble model\n",
    "ensemble = VotingClassifier(estimators)\n",
    "results = cross_val_score(ensemble, X, y, cv=kfold)\n",
    "print(results.mean())\n"
   ]
  }
 ],
 "metadata": {
  "kernelspec": {
   "display_name": "Python 3",
   "language": "python",
   "name": "python3"
  },
  "language_info": {
   "codemirror_mode": {
    "name": "ipython",
    "version": 3
   },
   "file_extension": ".py",
   "mimetype": "text/x-python",
   "name": "python",
   "nbconvert_exporter": "python",
   "pygments_lexer": "ipython3",
   "version": "3.7.4"
  }
 },
 "nbformat": 4,
 "nbformat_minor": 2
}
