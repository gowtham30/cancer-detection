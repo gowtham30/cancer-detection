{
 "cells": [
  {
   "cell_type": "markdown",
   "metadata": {},
   "source": [
    "# Module 4 : Performance measurements of Random Forest and Support Vector Machines"
   ]
  },
  {
   "cell_type": "code",
   "execution_count": 66,
   "metadata": {},
   "outputs": [],
   "source": [
    "#import libraries for access and functional purpose\n",
    "import pandas as p\n",
    "import numpy as n\n",
    "import matplotlib.pyplot as plt\n",
    "import seaborn as s"
   ]
  },
  {
   "cell_type": "code",
   "execution_count": 67,
   "metadata": {},
   "outputs": [],
   "source": [
    "import warnings\n",
    "warnings.filterwarnings('ignore')"
   ]
  },
  {
   "cell_type": "code",
   "execution_count": 68,
   "metadata": {},
   "outputs": [],
   "source": [
    "#read the given dataset\n",
    "df = p.read_csv(\"data.csv\")"
   ]
  },
  {
   "cell_type": "code",
   "execution_count": 69,
   "metadata": {},
   "outputs": [],
   "source": [
    "df=df.dropna()"
   ]
  },
  {
   "cell_type": "code",
   "execution_count": 70,
   "metadata": {},
   "outputs": [],
   "source": [
    "df['PtAgeBtw:40-49'] = df.age.map({'40-49':1, '50-59':0, '60-69':0, '30-39':0, '70-79':0, '20-29':0})\n",
    "df['PtAgeBtw:50-59'] = df.age.map({'40-49':0, '50-59':1, '60-69':0, '30-39':0, '70-79':0, '20-29':0})\n",
    "df['PtAgeBtw:60-69'] = df.age.map({'40-49':0, '50-59':0, '60-69':1, '30-39':0, '70-79':0, '20-29':0})\n",
    "df['PtAgeBtw:30-39'] = df.age.map({'40-49':0, '50-59':0, '60-69':0, '30-39':1, '70-79':0, '20-29':0})\n",
    "df['PtAgeBtw:70-79'] = df.age.map({'40-49':0, '50-59':0, '60-69':0, '30-39':0, '70-79':1, '20-29':0})\n",
    "df['PtAgeBtw:20-29'] = df.age.map({'40-49':0, '50-59':0, '60-69':0, '30-39':0, '70-79':0, '20-29':1})"
   ]
  },
  {
   "cell_type": "code",
   "execution_count": 71,
   "metadata": {},
   "outputs": [],
   "source": [
    "df['Premenopausal'] = df.menopause.map({'premeno':1, 'ge40':0, 'lt40':0})\n",
    "df['Postmenopausal'] = df.menopause.map({'premeno':0, 'ge40':1, 'lt40':1})"
   ]
  },
  {
   "cell_type": "code",
   "execution_count": 72,
   "metadata": {},
   "outputs": [],
   "source": [
    "df['TS15to19'] = df['tumor-size'].map({'15-19':1, '35-39':0, '30-34':0, '25-29':0, '40-44':0, 'Oct-14':0, '0-4':0,\n",
    "       '20-24':0, '45-49':0, '50-54':0, '05-Sep':0})\n",
    "\n",
    "df['TS35to39'] = df['tumor-size'].map({'15-19':0, '35-39':1, '30-34':0, '25-29':0, '40-44':0, 'Oct-14':0, '0-4':0,\n",
    "       '20-24':0, '45-49':0, '50-54':0, '05-Sep':0})\n",
    "\n",
    "df['TS30to34'] = df['tumor-size'].map({'15-19':0, '35-39':0, '30-34':1, '25-29':0, '40-44':0, 'Oct-14':0, '0-4':0,\n",
    "       '20-24':0, '45-49':0, '50-54':0, '05-Sep':0})\n",
    "\n",
    "df['TS25to29'] = df['tumor-size'].map({'15-19':0, '35-39':0, '30-34':0, '25-29':1, '40-44':0, 'Oct-14':0, '0-4':0,\n",
    "       '20-24':0, '45-49':0, '50-54':0, '05-Sep':0})\n",
    "\n",
    "df['TS40to44'] = df['tumor-size'].map({'15-19':0, '35-39':0, '30-34':0, '25-29':0, '40-44':1, 'Oct-14':0, '0-4':0,\n",
    "       '20-24':0, '45-49':0, '50-54':0, '05-Sep':0})\n",
    "\n",
    "df['TS10to14'] = df['tumor-size'].map({'15-19':0, '35-39':0, '30-34':0, '25-29':0, '40-44':0, 'Oct-14':1, '0-4':0,\n",
    "       '20-24':0, '45-49':0, '50-54':0, '05-Sep':0})\n",
    "\n",
    "df['TS00to04'] = df['tumor-size'].map({'15-19':0, '35-39':0, '30-34':0, '25-29':0, '40-44':0, 'Oct-14':0, '0-4':1,\n",
    "       '20-24':0, '45-49':0, '50-54':0, '05-Sep':0})\n",
    "\n",
    "df['TS20to24'] = df['tumor-size'].map({'15-19':0, '35-39':0, '30-34':0, '25-29':0, '40-44':0, 'Oct-14':0, '0-4':0,\n",
    "       '20-24':1, '45-49':0, '50-54':0, '05-Sep':0})\n",
    "\n",
    "df['TS45to49'] = df['tumor-size'].map({'15-19':0, '35-39':0, '30-34':0, '25-29':0, '40-44':0, 'Oct-14':0, '0-4':0,\n",
    "       '20-24':0, '45-49':1, '50-54':0, '05-Sep':0})\n",
    "\n",
    "df['TS50to54'] =df['tumor-size'].map({'15-19':0, '35-39':0, '30-34':0, '25-29':0, '40-44':0, 'Oct-14':0, '0-4':0,\n",
    "       '20-24':0, '45-49':0, '50-54':1, '05-Sep':0})\n",
    "\n",
    "df['TS05to09'] = df['tumor-size'].map({'15-19':0, '35-39':0, '30-34':0, '25-29':0, '40-44':0, 'Oct-14':0, '0-4':0,\n",
    "       '20-24':0, '45-49':0, '50-54':0, '05-Sep':1})\n"
   ]
  },
  {
   "cell_type": "code",
   "execution_count": 73,
   "metadata": {},
   "outputs": [],
   "source": [
    "df['IN00-02'] = df['inv-nodes'].map({'0-2':1, '03-May':0, '15-17':0, '06-Aug':0, '09-Nov':0, '24-26':0, 'Dec-14':0})\n",
    "\n",
    "df['IN03-05'] = df['inv-nodes'].map({'0-2':0, '03-May':1, '15-17':0, '06-Aug':0, '09-Nov':0, '24-26':0, 'Dec-14':0})\n",
    "\n",
    "df['IN15-17'] = df['inv-nodes'].map({'0-2':0, '03-May':0, '15-17':1, '06-Aug':0, '09-Nov':0, '24-26':0, 'Dec-14':0})\n",
    "\n",
    "df['IN06-08'] = df['inv-nodes'].map({'0-2':0, '03-May':0, '15-17':0, '06-Aug':1, '09-Nov':0, '24-26':0, 'Dec-14':0})\n",
    "\n",
    "df['IN09-11'] = df['inv-nodes'].map({'0-2':0, '03-May':0, '15-17':0, '06-Aug':0, '09-Nov':1, '24-26':0, 'Dec-14':0})\n",
    "\n",
    "df['IN24-26'] = df['inv-nodes'].map({'0-2':0, '03-May':0, '15-17':0, '06-Aug':0, '09-Nov':0, '24-26':1, 'Dec-14':0})\n",
    "\n",
    "df['IN12-14'] = df['inv-nodes'].map({'0-2':0, '03-May':0, '15-17':0, '06-Aug':0, '09-Nov':0, '24-26':0, 'Dec-14':1})\n"
   ]
  },
  {
   "cell_type": "code",
   "execution_count": 74,
   "metadata": {},
   "outputs": [],
   "source": [
    "df['Nodecapsule-Yes'] = df['node-caps'].map({'yes':1, 'no':0})\n",
    "\n",
    "df['Nodecapsule-No'] = df['node-caps'].map({'yes':0, 'no':1})"
   ]
  },
  {
   "cell_type": "code",
   "execution_count": 75,
   "metadata": {},
   "outputs": [],
   "source": [
    "df['Grade-1'] = df['deg-malig'].map({3:0, 1:1, 2:0})\n",
    "\n",
    "df['Grade-2'] = df['deg-malig'].map({3:0, 1:0, 2:1})\n",
    "\n",
    "df['Grade-3'] = df['deg-malig'].map({3:1, 1:0, 2:0})"
   ]
  },
  {
   "cell_type": "code",
   "execution_count": 76,
   "metadata": {},
   "outputs": [],
   "source": [
    "df['Breast-@-Right'] = df['breast'].map({'right':1, 'left':0})\n",
    "\n",
    "df['Breast-@-Left'] = df['breast'].map({'right':0, 'left':1})"
   ]
  },
  {
   "cell_type": "code",
   "execution_count": 77,
   "metadata": {},
   "outputs": [],
   "source": [
    "df['Breast-@-Left_Up'] = df['breast-quad'].map({'left_up':1, 'central':0, 'left_low':0, 'right_up':0, 'right_low':0})\n",
    "\n",
    "df['Breast-@-Central'] = df['breast-quad'].map({'left_up':0, 'central':1, 'left_low':0, 'right_up':0, 'right_low':0})\n",
    "\n",
    "df['Breast-@-Left_Down'] = df['breast-quad'].map({'left_up':0, 'central':0, 'left_low':1, 'right_up':0, 'right_low':0})\n",
    "\n",
    "df['Breast-@-Right_Up'] = df['breast-quad'].map({'left_up':0, 'central':0, 'left_low':0, 'right_up':1, 'right_low':0})\n",
    "\n",
    "df['Breast-@-Right_Down'] = df['breast-quad'].map({'left_up':0, 'central':0, 'left_low':0, 'right_up':0, 'right_low':1})"
   ]
  },
  {
   "cell_type": "code",
   "execution_count": 78,
   "metadata": {},
   "outputs": [],
   "source": [
    "df['Radiation_Surgery:Yes'] = df['irradiat'].map({'no':0, 'yes':1})\n",
    "\n",
    "df['Radiation_Surgery:No'] = df['irradiat'].map({'no':1, 'yes':0})"
   ]
  },
  {
   "cell_type": "code",
   "execution_count": 79,
   "metadata": {},
   "outputs": [],
   "source": [
    "df['After_Treatment:Reappearing'] = df['Class'].map({'recurrence-events':1, 'no-recurrence-events':0})\n",
    "\n",
    "df['After_Treatment:Healthy'] = df['Class'].map({'recurrence-events':0, 'no-recurrence-events':1})"
   ]
  },
  {
   "cell_type": "code",
   "execution_count": 80,
   "metadata": {},
   "outputs": [],
   "source": [
    "df['TSt'] = df['tumor-size'].map({'15-19':'T1c', '35-39':'T2', '30-34':'T2', '25-29':'T2', '40-44':'T2', 'Oct-14':'T1b', '0-4':'T1a',\n",
    "       '20-24':'T1', '45-49':'T2', '50-54':'T3', '05-Sep':'T1a'})\n"
   ]
  },
  {
   "cell_type": "code",
   "execution_count": 81,
   "metadata": {},
   "outputs": [],
   "source": [
    "df['NSt'] = df['inv-nodes'].map({'0-2':'N0', '03-May':'N1', '15-17':'N3', '06-Aug':'N2', '09-Nov':'N2', '24-26':'N3', 'Dec-14':'N3'})"
   ]
  },
  {
   "cell_type": "code",
   "execution_count": 82,
   "metadata": {},
   "outputs": [],
   "source": [
    "df['MSt'] = df['irradiat'].map({'no':'M0', 'yes':'M1'})"
   ]
  },
  {
   "cell_type": "code",
   "execution_count": 83,
   "metadata": {},
   "outputs": [],
   "source": [
    "df['TN'] = df['TSt'].str.cat(df['NSt'], sep =\"-\") "
   ]
  },
  {
   "cell_type": "code",
   "execution_count": 84,
   "metadata": {},
   "outputs": [],
   "source": [
    "df['TNM']=df['TN'].str.cat(df['MSt'], sep =\"-\") "
   ]
  },
  {
   "cell_type": "code",
   "execution_count": 85,
   "metadata": {},
   "outputs": [],
   "source": [
    "del df['age']\n",
    "del df['menopause']\n",
    "del df['tumor-size']\n",
    "del df['inv-nodes']\n",
    "del df['node-caps']\n",
    "del df['deg-malig']\n",
    "del df['breast']\n",
    "del df['breast-quad']\n",
    "del df['irradiat']\n",
    "#del df['Class']\n",
    "del df['TN']\n",
    "#del df['TSt']\n",
    "#del df['NSt']\n",
    "#del df['MSt']\n",
    "#del df['TNM']"
   ]
  },
  {
   "cell_type": "code",
   "execution_count": 86,
   "metadata": {},
   "outputs": [],
   "source": [
    "from sklearn.preprocessing import LabelEncoder\n",
    "var_mod = ['Class', 'PtAgeBtw:40-49', 'PtAgeBtw:50-59', 'PtAgeBtw:60-69',\n",
    "       'PtAgeBtw:30-39', 'PtAgeBtw:70-79', 'PtAgeBtw:20-29', 'Premenopausal',\n",
    "       'Postmenopausal', 'TS15to19', 'TS35to39', 'TS30to34', 'TS25to29',\n",
    "       'TS40to44', 'TS10to14', 'TS00to04', 'TS20to24', 'TS45to49', 'TS50to54',\n",
    "       'TS05to09', 'IN00-02', 'IN03-05', 'IN15-17', 'IN06-08', 'IN09-11',\n",
    "       'IN24-26', 'IN12-14', 'Nodecapsule-Yes', 'Nodecapsule-No', 'Grade-1',\n",
    "       'Grade-2', 'Grade-3', 'Breast-@-Right', 'Breast-@-Left',\n",
    "       'Breast-@-Left_Up', 'Breast-@-Central', 'Breast-@-Left_Down',\n",
    "       'Breast-@-Right_Up', 'Breast-@-Right_Down', 'Radiation_Surgery:Yes',\n",
    "       'Radiation_Surgery:No', 'After_Treatment:Reappearing',\n",
    "       'After_Treatment:Healthy', 'TSt', 'NSt', 'MSt', 'TNM'\n",
    "       ]\n",
    "le = LabelEncoder()\n",
    "for i in var_mod:\n",
    "    df[i] = le.fit_transform(df[i]).astype(str)\n"
   ]
  },
  {
   "cell_type": "code",
   "execution_count": 87,
   "metadata": {},
   "outputs": [],
   "source": [
    "#According to the cross-validated MCC scores, the random forest is the best-performing model, so now let's evaluate its performance on the test set.\n",
    "from sklearn.metrics import confusion_matrix, classification_report, matthews_corrcoef, cohen_kappa_score, accuracy_score, average_precision_score, roc_auc_score"
   ]
  },
  {
   "cell_type": "code",
   "execution_count": 88,
   "metadata": {},
   "outputs": [],
   "source": [
    "X = df.drop(labels='Class', axis=1)\n",
    "#Response variable\n",
    "y = df.loc[:,'Class']    "
   ]
  },
  {
   "cell_type": "code",
   "execution_count": 89,
   "metadata": {},
   "outputs": [],
   "source": [
    "del df \n",
    "#We'll use a test size of 30%. We also stratify the split on the response variable, which is very important to do because there are so few fraudulent transactions.\n",
    "from sklearn.model_selection import train_test_split\n",
    "X_train, X_test, y_train, y_test = train_test_split(X, y, test_size=0.3, random_state=1, stratify=y)"
   ]
  },
  {
   "cell_type": "code",
   "execution_count": 90,
   "metadata": {},
   "outputs": [],
   "source": [
    "#for our convienient we delete X,y variable for differentiate confusion\n",
    "del X, y"
   ]
  },
  {
   "cell_type": "code",
   "execution_count": 91,
   "metadata": {},
   "outputs": [],
   "source": [
    "# Prevent view warnings\n",
    "X_train.is_copy = False\n",
    "X_test.is_copy = False"
   ]
  },
  {
   "cell_type": "markdown",
   "metadata": {},
   "source": [
    "Random Forest:"
   ]
  },
  {
   "cell_type": "code",
   "execution_count": 92,
   "metadata": {},
   "outputs": [
    {
     "name": "stdout",
     "output_type": "stream",
     "text": [
      "\n",
      "Classification report of Random Forest Results:\n",
      "\n",
      "              precision    recall  f1-score   support\n",
      "\n",
      "           0       1.00      1.00      1.00        59\n",
      "           1       1.00      1.00      1.00        25\n",
      "\n",
      "    accuracy                           1.00        84\n",
      "   macro avg       1.00      1.00      1.00        84\n",
      "weighted avg       1.00      1.00      1.00        84\n",
      "\n",
      "Accuracy result of Random Forest is: 100.0\n",
      "\n",
      "Confusion Matrix result of Random Forest is:\n",
      " [[59  0]\n",
      " [ 0 25]]\n",
      "\n",
      "Sensitivity :  1.0\n",
      "\n",
      "Specificity :  1.0\n",
      "\n"
     ]
    }
   ],
   "source": [
    "from sklearn.ensemble import RandomForestClassifier\n",
    "rfc = RandomForestClassifier()\n",
    "\n",
    "rfc.fit(X_train,y_train)\n",
    "\n",
    "predictR = rfc.predict(X_test)\n",
    "\n",
    "print(\"\")\n",
    "print('Classification report of Random Forest Results:')\n",
    "print(\"\")\n",
    "\n",
    "print(classification_report(y_test,predictR))\n",
    "x = (accuracy_score(y_test,predictR)*100)\n",
    "\n",
    "print('Accuracy result of Random Forest is:', x)\n",
    "print(\"\")\n",
    "cm1=confusion_matrix(y_test,predictR)\n",
    "print('Confusion Matrix result of Random Forest is:\\n',cm1)\n",
    "print(\"\")\n",
    "sensitivity1 = cm1[0,0]/(cm1[0,0]+cm1[0,1])\n",
    "print('Sensitivity : ', sensitivity1 )\n",
    "print(\"\")\n",
    "specificity1 = cm1[1,1]/(cm1[1,0]+cm1[1,1])\n",
    "print('Specificity : ', specificity1)\n",
    "print(\"\")\n"
   ]
  },
  {
   "cell_type": "code",
   "execution_count": 93,
   "metadata": {},
   "outputs": [
    {
     "name": "stdout",
     "output_type": "stream",
     "text": [
      "True Positive : 25\n",
      "True Negative : 59\n",
      "False Positive : 0\n",
      "False Negative : 0\n",
      "\n",
      "True Positive Rate : 1.0\n",
      "True Negative Rate : 1.0\n",
      "False Positive Rate : 0.0\n",
      "False Negative Rate : 0.0\n",
      "\n",
      "Positive Predictive Value : 1.0\n",
      "Negative predictive value : 1.0\n"
     ]
    }
   ],
   "source": [
    "TN = cm1[0][0]\n",
    "FN = cm1[1][0]\n",
    "TP = cm1[1][1]\n",
    "FP = cm1[0][1]\n",
    "print(\"True Positive :\",TP)\n",
    "print(\"True Negative :\",TN)\n",
    "print(\"False Positive :\",FP)\n",
    "print(\"False Negative :\",FN)\n",
    "print(\"\")\n",
    "TPR = TP/(TP+FN)\n",
    "TNR = TN/(TN+FP)\n",
    "FPR = FP/(FP+TN)\n",
    "FNR = FN/(TP+FN)\n",
    "print(\"True Positive Rate :\",TPR)\n",
    "print(\"True Negative Rate :\",TNR)\n",
    "print(\"False Positive Rate :\",FPR)\n",
    "print(\"False Negative Rate :\",FNR)\n",
    "print(\"\")\n",
    "PPV = TP/(TP+FP)\n",
    "NPV = TN/(TN+FN)\n",
    "print(\"Positive Predictive Value :\",PPV)\n",
    "print(\"Negative predictive value :\",NPV)"
   ]
  },
  {
   "cell_type": "markdown",
   "metadata": {},
   "source": [
    "Support Vector Machines:"
   ]
  },
  {
   "cell_type": "code",
   "execution_count": 94,
   "metadata": {},
   "outputs": [
    {
     "name": "stdout",
     "output_type": "stream",
     "text": [
      "\n",
      "Classification report of Support Vector Machines Results:\n",
      "\n",
      "              precision    recall  f1-score   support\n",
      "\n",
      "           0       0.89      1.00      0.94        59\n",
      "           1       1.00      0.72      0.84        25\n",
      "\n",
      "    accuracy                           0.92        84\n",
      "   macro avg       0.95      0.86      0.89        84\n",
      "weighted avg       0.93      0.92      0.91        84\n",
      "\n",
      "Accuracy result of Support Vector Machines is: 91.66666666666666\n",
      "\n",
      "Confusion Matrix result of Support Vector Machines is:\n",
      " [[59  0]\n",
      " [ 7 18]]\n",
      "\n",
      "Sensitivity :  1.0\n",
      "\n",
      "Specificity :  0.72\n",
      "\n"
     ]
    }
   ],
   "source": [
    "from sklearn.svm import SVC\n",
    "s = SVC()\n",
    "\n",
    "s.fit(X_train,y_train)\n",
    "\n",
    "predicts = s.predict(X_test)\n",
    "\n",
    "print(\"\")\n",
    "print('Classification report of Support Vector Machines Results:')\n",
    "print(\"\")\n",
    "\n",
    "print(classification_report(y_test,predicts))\n",
    "x = (accuracy_score(y_test,predicts)*100)\n",
    "\n",
    "print('Accuracy result of Support Vector Machines is:', x)\n",
    "print(\"\")\n",
    "cm2=confusion_matrix(y_test,predicts)\n",
    "print('Confusion Matrix result of Support Vector Machines is:\\n',cm2)\n",
    "print(\"\")\n",
    "sensitivity1 = cm2[0,0]/(cm2[0,0]+cm2[0,1])\n",
    "print('Sensitivity : ', sensitivity1 )\n",
    "print(\"\")\n",
    "specificity1 = cm2[1,1]/(cm2[1,0]+cm2[1,1])\n",
    "print('Specificity : ', specificity1)\n",
    "print(\"\")\n"
   ]
  },
  {
   "cell_type": "code",
   "execution_count": 95,
   "metadata": {},
   "outputs": [
    {
     "name": "stdout",
     "output_type": "stream",
     "text": [
      "True Positive : 18\n",
      "True Negative : 59\n",
      "False Positive : 0\n",
      "False Negative : 7\n",
      "\n",
      "True Positive Rate : 0.72\n",
      "True Negative Rate : 1.0\n",
      "False Positive Rate : 0.0\n",
      "False Negative Rate : 0.28\n",
      "\n",
      "Positive Predictive Value : 1.0\n",
      "Negative predictive value : 0.8939393939393939\n"
     ]
    }
   ],
   "source": [
    "TN = cm2[0][0]\n",
    "FN = cm2[1][0]\n",
    "TP = cm2[1][1]\n",
    "FP = cm2[0][1]\n",
    "print(\"True Positive :\",TP)\n",
    "print(\"True Negative :\",TN)\n",
    "print(\"False Positive :\",FP)\n",
    "print(\"False Negative :\",FN)\n",
    "print(\"\")\n",
    "TPR = TP/(TP+FN)\n",
    "TNR = TN/(TN+FP)\n",
    "FPR = FP/(FP+TN)\n",
    "FNR = FN/(TP+FN)\n",
    "print(\"True Positive Rate :\",TPR)\n",
    "print(\"True Negative Rate :\",TNR)\n",
    "print(\"False Positive Rate :\",FPR)\n",
    "print(\"False Negative Rate :\",FNR)\n",
    "print(\"\")\n",
    "PPV = TP/(TP+FP)\n",
    "NPV = TN/(TN+FN)\n",
    "print(\"Positive Predictive Value :\",PPV)\n",
    "print(\"Negative predictive value :\",NPV)"
   ]
  }
 ],
 "metadata": {
  "kernelspec": {
   "display_name": "Python 3",
   "language": "python",
   "name": "python3"
  },
  "language_info": {
   "codemirror_mode": {
    "name": "ipython",
    "version": 3
   },
   "file_extension": ".py",
   "mimetype": "text/x-python",
   "name": "python",
   "nbconvert_exporter": "python",
   "pygments_lexer": "ipython3",
   "version": "3.7.4"
  }
 },
 "nbformat": 4,
 "nbformat_minor": 2
}
